{
 "cells": [
  {
   "cell_type": "code",
   "execution_count": 0,
   "metadata": {
    "application/vnd.databricks.v1+cell": {
     "cellMetadata": {
      "byteLimit": 2048000,
      "rowLimit": 10000
     },
     "inputWidgets": {},
     "nuid": "790c19de-c8fa-478e-8592-946abb0400f3",
     "showTitle": false,
     "title": ""
    }
   },
   "outputs": [
    {
     "output_type": "display_data",
     "data": {
      "text/html": [
       "<style scoped>\n",
       "  .ansiout {\n",
       "    display: block;\n",
       "    unicode-bidi: embed;\n",
       "    white-space: pre-wrap;\n",
       "    word-wrap: break-word;\n",
       "    word-break: break-all;\n",
       "    font-family: \"Menlo\", \"Monaco\", \"Consolas\", \"Ubuntu Mono\", \"Source Code Pro\", monospace;\n",
       "    font-size: 13px;\n",
       "    color: #555;\n",
       "    margin-left: 4px;\n",
       "    line-height: 19px;\n",
       "  }\n",
       "</style>\n",
       "<div class=\"ansiout\">Out[4]: [FileInfo(path=&#39;dbfs:/FileStore/tables/authentication_credentials.csv&#39;, name=&#39;authentication_credentials.csv&#39;, size=202, modificationTime=1687110999000),\n",
       " FileInfo(path=&#39;dbfs:/FileStore/tables/geo_dirty.csv/&#39;, name=&#39;geo_dirty.csv/&#39;, size=0, modificationTime=1702483695250),\n",
       " FileInfo(path=&#39;dbfs:/FileStore/tables/pin_dirty.csv/&#39;, name=&#39;pin_dirty.csv/&#39;, size=0, modificationTime=1702483695250),\n",
       " FileInfo(path=&#39;dbfs:/FileStore/tables/single_json_file.json&#39;, name=&#39;single_json_file.json&#39;, size=293, modificationTime=1701857903000),\n",
       " FileInfo(path=&#39;dbfs:/FileStore/tables/user_dirty.csv/&#39;, name=&#39;user_dirty.csv/&#39;, size=0, modificationTime=1702483695250)]</div>"
      ]
     },
     "metadata": {
      "application/vnd.databricks.v1+output": {
       "addedWidgets": {},
       "arguments": {},
       "data": "<div class=\"ansiout\">Out[4]: [FileInfo(path=&#39;dbfs:/FileStore/tables/authentication_credentials.csv&#39;, name=&#39;authentication_credentials.csv&#39;, size=202, modificationTime=1687110999000),\n FileInfo(path=&#39;dbfs:/FileStore/tables/geo_dirty.csv/&#39;, name=&#39;geo_dirty.csv/&#39;, size=0, modificationTime=1702483695250),\n FileInfo(path=&#39;dbfs:/FileStore/tables/pin_dirty.csv/&#39;, name=&#39;pin_dirty.csv/&#39;, size=0, modificationTime=1702483695250),\n FileInfo(path=&#39;dbfs:/FileStore/tables/single_json_file.json&#39;, name=&#39;single_json_file.json&#39;, size=293, modificationTime=1701857903000),\n FileInfo(path=&#39;dbfs:/FileStore/tables/user_dirty.csv/&#39;, name=&#39;user_dirty.csv/&#39;, size=0, modificationTime=1702483695250)]</div>",
       "datasetInfos": [],
       "metadata": {},
       "removedWidgets": [],
       "type": "html"
      }
     },
     "output_type": "display_data"
    }
   ],
   "source": [
    "dbutils.fs.ls(\"/FileStore/tables\")"
   ]
  },
  {
   "cell_type": "code",
   "execution_count": 0,
   "metadata": {
    "application/vnd.databricks.v1+cell": {
     "cellMetadata": {
      "byteLimit": 2048000,
      "rowLimit": 10000
     },
     "inputWidgets": {},
     "nuid": "d5de75b2-3c16-4064-83f4-9fcfcd10ab75",
     "showTitle": false,
     "title": ""
    }
   },
   "outputs": [
    {
     "output_type": "display_data",
     "data": {
      "text/html": [
       "<style scoped>\n",
       "  .ansiout {\n",
       "    display: block;\n",
       "    unicode-bidi: embed;\n",
       "    white-space: pre-wrap;\n",
       "    word-wrap: break-word;\n",
       "    word-break: break-all;\n",
       "    font-family: \"Menlo\", \"Monaco\", \"Consolas\", \"Ubuntu Mono\", \"Source Code Pro\", monospace;\n",
       "    font-size: 13px;\n",
       "    color: #555;\n",
       "    margin-left: 4px;\n",
       "    line-height: 19px;\n",
       "  }\n",
       "</style>\n",
       "<div class=\"ansiout\"></div>"
      ]
     },
     "metadata": {
      "application/vnd.databricks.v1+output": {
       "addedWidgets": {},
       "arguments": {},
       "data": "<div class=\"ansiout\"></div>",
       "datasetInfos": [],
       "metadata": {},
       "removedWidgets": [],
       "type": "html"
      }
     },
     "output_type": "display_data"
    }
   ],
   "source": [
    "# pyspark functions\n",
    "from pyspark.sql.functions import *\n",
    "# URL processing\n",
    "import urllib"
   ]
  },
  {
   "cell_type": "code",
   "execution_count": 0,
   "metadata": {
    "application/vnd.databricks.v1+cell": {
     "cellMetadata": {
      "byteLimit": 2048000,
      "rowLimit": 10000
     },
     "inputWidgets": {},
     "nuid": "45d02312-b737-472d-8b26-33ff197f9c86",
     "showTitle": false,
     "title": ""
    }
   },
   "outputs": [
    {
     "output_type": "display_data",
     "data": {
      "text/html": [
       "<style scoped>\n",
       "  .ansiout {\n",
       "    display: block;\n",
       "    unicode-bidi: embed;\n",
       "    white-space: pre-wrap;\n",
       "    word-wrap: break-word;\n",
       "    word-break: break-all;\n",
       "    font-family: \"Menlo\", \"Monaco\", \"Consolas\", \"Ubuntu Mono\", \"Source Code Pro\", monospace;\n",
       "    font-size: 13px;\n",
       "    color: #555;\n",
       "    margin-left: 4px;\n",
       "    line-height: 19px;\n",
       "  }\n",
       "</style>\n",
       "<div class=\"ansiout\"></div>"
      ]
     },
     "metadata": {
      "application/vnd.databricks.v1+output": {
       "addedWidgets": {},
       "arguments": {},
       "data": "<div class=\"ansiout\"></div>",
       "datasetInfos": [],
       "metadata": {},
       "removedWidgets": [],
       "type": "html"
      }
     },
     "output_type": "display_data"
    }
   ],
   "source": [
    "# Specify file type to be csv\n",
    "file_type = \"csv\"\n",
    "# Indicates file has first row as the header\n",
    "first_row_is_header = \"true\"\n",
    "# Indicates file has comma as the delimeter\n",
    "delimiter = \",\"\n",
    "# Read the CSV file to spark dataframe\n",
    "aws_keys_df = spark.read.format(file_type)\\\n",
    ".option(\"header\", first_row_is_header)\\\n",
    ".option(\"sep\", delimiter)\\\n",
    ".load(\"/FileStore/tables/authentication_credentials.csv\")"
   ]
  },
  {
   "cell_type": "code",
   "execution_count": 0,
   "metadata": {
    "application/vnd.databricks.v1+cell": {
     "cellMetadata": {
      "byteLimit": 2048000,
      "rowLimit": 10000
     },
     "inputWidgets": {},
     "nuid": "60a0f840-4900-478f-8a0f-646c7a8586e9",
     "showTitle": false,
     "title": ""
    }
   },
   "outputs": [
    {
     "output_type": "display_data",
     "data": {
      "text/html": [
       "<style scoped>\n",
       "  .ansiout {\n",
       "    display: block;\n",
       "    unicode-bidi: embed;\n",
       "    white-space: pre-wrap;\n",
       "    word-wrap: break-word;\n",
       "    word-break: break-all;\n",
       "    font-family: \"Menlo\", \"Monaco\", \"Consolas\", \"Ubuntu Mono\", \"Source Code Pro\", monospace;\n",
       "    font-size: 13px;\n",
       "    color: #555;\n",
       "    margin-left: 4px;\n",
       "    line-height: 19px;\n",
       "  }\n",
       "</style>\n",
       "<div class=\"ansiout\"></div>"
      ]
     },
     "metadata": {
      "application/vnd.databricks.v1+output": {
       "addedWidgets": {},
       "arguments": {},
       "data": "<div class=\"ansiout\"></div>",
       "datasetInfos": [],
       "metadata": {},
       "removedWidgets": [],
       "type": "html"
      }
     },
     "output_type": "display_data"
    }
   ],
   "source": [
    "# Get the AWS access key and secret key from the spark dataframe\n",
    "ACCESS_KEY = aws_keys_df.where(col('User name')=='databricks-user').select('Access key ID').collect()[0]['Access key ID']\n",
    "SECRET_KEY = aws_keys_df.where(col('User name')=='databricks-user').select('Secret access key').collect()[0]['Secret access key']\n",
    "# Encode the secrete key\n",
    "ENCODED_SECRET_KEY = urllib.parse.quote(string=SECRET_KEY, safe=\"\")"
   ]
  },
  {
   "cell_type": "code",
   "execution_count": 0,
   "metadata": {
    "application/vnd.databricks.v1+cell": {
     "cellMetadata": {
      "byteLimit": 2048000,
      "rowLimit": 10000
     },
     "inputWidgets": {},
     "nuid": "7b2897c0-6244-47ec-8540-1dd2193ae5de",
     "showTitle": false,
     "title": ""
    }
   },
   "outputs": [
    {
     "output_type": "display_data",
     "data": {
      "text/html": [
       "<style scoped>\n",
       "  .ansiout {\n",
       "    display: block;\n",
       "    unicode-bidi: embed;\n",
       "    white-space: pre-wrap;\n",
       "    word-wrap: break-word;\n",
       "    word-break: break-all;\n",
       "    font-family: \"Menlo\", \"Monaco\", \"Consolas\", \"Ubuntu Mono\", \"Source Code Pro\", monospace;\n",
       "    font-size: 13px;\n",
       "    color: #555;\n",
       "    margin-left: 4px;\n",
       "    line-height: 19px;\n",
       "  }\n",
       "</style>\n",
       "<div class=\"ansiout\">Out[13]: True</div>"
      ]
     },
     "metadata": {
      "application/vnd.databricks.v1+output": {
       "addedWidgets": {},
       "arguments": {},
       "data": "<div class=\"ansiout\">Out[13]: True</div>",
       "datasetInfos": [],
       "metadata": {},
       "removedWidgets": [],
       "type": "html"
      }
     },
     "output_type": "display_data"
    }
   ],
   "source": [
    "# AWS S3 bucket name: \n",
    "# to be edited for matching real situation!\n",
    "AWS_S3_BUCKET = \"user-0ea9a6e05a33-bucket\"\n",
    "# Mount name for the bucket\n",
    "MOUNT_NAME = \"/mnt/pinpip_mount\"\n",
    "# Source url\n",
    "SOURCE_URL = \"s3n://{0}:{1}@{2}\".format(ACCESS_KEY, ENCODED_SECRET_KEY, AWS_S3_BUCKET)\n",
    "# Mount the drive\n",
    "dbutils.fs.mount(SOURCE_URL, MOUNT_NAME)# this bridges"
   ]
  },
  {
   "cell_type": "code",
   "execution_count": 0,
   "metadata": {
    "application/vnd.databricks.v1+cell": {
     "cellMetadata": {
      "byteLimit": 2048000,
      "rowLimit": 10000
     },
     "inputWidgets": {},
     "nuid": "1295eee8-4580-44d2-bfcd-1d0c068f03cd",
     "showTitle": false,
     "title": ""
    }
   },
   "outputs": [
    {
     "output_type": "display_data",
     "data": {
      "text/html": [
       "<style scoped>\n",
       "  .table-result-container {\n",
       "    max-height: 300px;\n",
       "    overflow: auto;\n",
       "  }\n",
       "  table, th, td {\n",
       "    border: 1px solid black;\n",
       "    border-collapse: collapse;\n",
       "  }\n",
       "  th, td {\n",
       "    padding: 5px;\n",
       "  }\n",
       "  th {\n",
       "    text-align: left;\n",
       "  }\n",
       "</style><div class='table-result-container'><table class='table-result'><thead style='background-color: white'><tr><th>path</th><th>name</th><th>size</th><th>modificationTime</th></tr></thead><tbody><tr><td>dbfs:/FileStore/</td><td>FileStore/</td><td>0</td><td>1702488399102</td></tr><tr><td>dbfs:/Volume/</td><td>Volume/</td><td>0</td><td>0</td></tr><tr><td>dbfs:/Volumes/</td><td>Volumes/</td><td>0</td><td>0</td></tr><tr><td>dbfs:/checkpoint/</td><td>checkpoint/</td><td>0</td><td>1702488399102</td></tr><tr><td>dbfs:/databricks-datasets/</td><td>databricks-datasets/</td><td>0</td><td>0</td></tr><tr><td>dbfs:/databricks-results/</td><td>databricks-results/</td><td>0</td><td>0</td></tr><tr><td>dbfs:/delta/</td><td>delta/</td><td>0</td><td>1702488399102</td></tr><tr><td>dbfs:/df_pin.csv/</td><td>df_pin.csv/</td><td>0</td><td>1702488399102</td></tr><tr><td>dbfs:/df_pin.parquet/</td><td>df_pin.parquet/</td><td>0</td><td>1702488399102</td></tr><tr><td>dbfs:/geo_dirty.csv/</td><td>geo_dirty.csv/</td><td>0</td><td>1702488399102</td></tr><tr><td>dbfs:/local_disk0/</td><td>local_disk0/</td><td>0</td><td>1702488399102</td></tr><tr><td>dbfs:/mnt/</td><td>mnt/</td><td>0</td><td>1702488399102</td></tr><tr><td>dbfs:/output/</td><td>output/</td><td>0</td><td>1702488399102</td></tr><tr><td>dbfs:/pin_dirty.csv/</td><td>pin_dirty.csv/</td><td>0</td><td>1702488399102</td></tr><tr><td>dbfs:/pin_kinesis_events/</td><td>pin_kinesis_events/</td><td>0</td><td>1702488399102</td></tr><tr><td>dbfs:/tmp/</td><td>tmp/</td><td>0</td><td>1702488399102</td></tr><tr><td>dbfs:/user/</td><td>user/</td><td>0</td><td>1702488399102</td></tr><tr><td>dbfs:/user_dirty.csv/</td><td>user_dirty.csv/</td><td>0</td><td>1702488399102</td></tr><tr><td>dbfs:/volume/</td><td>volume/</td><td>0</td><td>0</td></tr><tr><td>dbfs:/volumes/</td><td>volumes/</td><td>0</td><td>0</td></tr></tbody></table></div>"
      ]
     },
     "metadata": {
      "application/vnd.databricks.v1+output": {
       "addedWidgets": {},
       "aggData": [],
       "aggError": "",
       "aggOverflow": false,
       "aggSchema": [],
       "aggSeriesLimitReached": false,
       "aggType": "",
       "arguments": {},
       "columnCustomDisplayInfos": {},
       "data": [
        [
         "dbfs:/FileStore/",
         "FileStore/",
         0,
         1702488399102
        ],
        [
         "dbfs:/Volume/",
         "Volume/",
         0,
         0
        ],
        [
         "dbfs:/Volumes/",
         "Volumes/",
         0,
         0
        ],
        [
         "dbfs:/checkpoint/",
         "checkpoint/",
         0,
         1702488399102
        ],
        [
         "dbfs:/databricks-datasets/",
         "databricks-datasets/",
         0,
         0
        ],
        [
         "dbfs:/databricks-results/",
         "databricks-results/",
         0,
         0
        ],
        [
         "dbfs:/delta/",
         "delta/",
         0,
         1702488399102
        ],
        [
         "dbfs:/df_pin.csv/",
         "df_pin.csv/",
         0,
         1702488399102
        ],
        [
         "dbfs:/df_pin.parquet/",
         "df_pin.parquet/",
         0,
         1702488399102
        ],
        [
         "dbfs:/geo_dirty.csv/",
         "geo_dirty.csv/",
         0,
         1702488399102
        ],
        [
         "dbfs:/local_disk0/",
         "local_disk0/",
         0,
         1702488399102
        ],
        [
         "dbfs:/mnt/",
         "mnt/",
         0,
         1702488399102
        ],
        [
         "dbfs:/output/",
         "output/",
         0,
         1702488399102
        ],
        [
         "dbfs:/pin_dirty.csv/",
         "pin_dirty.csv/",
         0,
         1702488399102
        ],
        [
         "dbfs:/pin_kinesis_events/",
         "pin_kinesis_events/",
         0,
         1702488399102
        ],
        [
         "dbfs:/tmp/",
         "tmp/",
         0,
         1702488399102
        ],
        [
         "dbfs:/user/",
         "user/",
         0,
         1702488399102
        ],
        [
         "dbfs:/user_dirty.csv/",
         "user_dirty.csv/",
         0,
         1702488399102
        ],
        [
         "dbfs:/volume/",
         "volume/",
         0,
         0
        ],
        [
         "dbfs:/volumes/",
         "volumes/",
         0,
         0
        ]
       ],
       "datasetInfos": [],
       "dbfsResultPath": null,
       "isJsonSchema": true,
       "metadata": {},
       "overflow": false,
       "plotOptions": {
        "customPlotOptions": {},
        "displayType": "table",
        "pivotAggregation": null,
        "pivotColumns": null,
        "xColumns": null,
        "yColumns": null
       },
       "removedWidgets": [],
       "schema": [
        {
         "metadata": "{}",
         "name": "path",
         "type": "\"string\""
        },
        {
         "metadata": "{}",
         "name": "name",
         "type": "\"string\""
        },
        {
         "metadata": "{}",
         "name": "size",
         "type": "\"long\""
        },
        {
         "metadata": "{}",
         "name": "modificationTime",
         "type": "\"long\""
        }
       ],
       "type": "table"
      }
     },
     "output_type": "display_data"
    }
   ],
   "source": [
    "display(dbutils.fs.ls(\"/mnt/pinpip_mount/../..\"))"
   ]
  },
  {
   "cell_type": "code",
   "execution_count": 0,
   "metadata": {
    "application/vnd.databricks.v1+cell": {
     "cellMetadata": {
      "byteLimit": 2048000,
      "rowLimit": 10000
     },
     "inputWidgets": {},
     "nuid": "7d2b5973-0d71-47b4-bab5-8cd947326354",
     "showTitle": false,
     "title": ""
    }
   },
   "outputs": [
    {
     "output_type": "display_data",
     "data": {
      "text/html": [
       "<style scoped>\n",
       "  .table-result-container {\n",
       "    max-height: 300px;\n",
       "    overflow: auto;\n",
       "  }\n",
       "  table, th, td {\n",
       "    border: 1px solid black;\n",
       "    border-collapse: collapse;\n",
       "  }\n",
       "  th, td {\n",
       "    padding: 5px;\n",
       "  }\n",
       "  th {\n",
       "    text-align: left;\n",
       "  }\n",
       "</style><div class='table-result-container'><table class='table-result'><thead style='background-color: white'><tr><th>age</th><th>date_joined</th><th>first_name</th><th>ind</th><th>last_name</th></tr></thead><tbody><tr><td>27</td><td>2016-03-08 13:38:37</td><td>Christopher</td><td>2015</td><td>Bradshaw</td></tr><tr><td>59</td><td>2017-05-12 21:22:17</td><td>Alexander</td><td>10673</td><td>Cervantes</td></tr><tr><td>27</td><td>2016-03-08 13:38:37</td><td>Christopher</td><td>2015</td><td>Bradshaw</td></tr><tr><td>59</td><td>2017-05-12 21:22:17</td><td>Alexander</td><td>10673</td><td>Cervantes</td></tr><tr><td>48</td><td>2016-02-27 16:57:44</td><td>Christopher</td><td>1857</td><td>Hamilton</td></tr><tr><td>39</td><td>2016-06-29 20:43:59</td><td>Christina</td><td>6398</td><td>Davenport</td></tr><tr><td>20</td><td>2015-10-23 04:13:23</td><td>Alexandria</td><td>3599</td><td>Alvarado</td></tr><tr><td>39</td><td>2016-06-29 20:43:59</td><td>Christina</td><td>6398</td><td>Davenport</td></tr><tr><td>20</td><td>2015-10-23 04:13:23</td><td>Alexandria</td><td>3599</td><td>Alvarado</td></tr><tr><td>20</td><td>2015-10-23 04:13:23</td><td>Alexandria</td><td>4256</td><td>Alvarado</td></tr><tr><td>44</td><td>2016-12-18 16:05:39</td><td>Michelle</td><td>1901</td><td>Richardson</td></tr><tr><td>20</td><td>2015-10-23 04:13:23</td><td>Alexandria</td><td>3831</td><td>Alvarado</td></tr><tr><td>23</td><td>2015-10-31 19:20:09</td><td>Alexandria</td><td>6602</td><td>Anderson</td></tr><tr><td>20</td><td>2015-12-01 15:08:31</td><td>Christopher</td><td>5076</td><td>Butler</td></tr><tr><td>39</td><td>2017-07-19 07:12:04</td><td>Michelle</td><td>7790</td><td>Gutierrez</td></tr><tr><td>49</td><td>2016-04-22 20:36:02</td><td>Brittany</td><td>10509</td><td>Thompson</td></tr><tr><td>20</td><td>2015-12-01 15:08:31</td><td>Christopher</td><td>5076</td><td>Butler</td></tr><tr><td>39</td><td>2017-07-19 07:12:04</td><td>Michelle</td><td>7790</td><td>Gutierrez</td></tr><tr><td>49</td><td>2016-04-22 20:36:02</td><td>Brittany</td><td>10509</td><td>Thompson</td></tr><tr><td>25</td><td>2016-08-19 02:29:26</td><td>Elizabeth</td><td>10248</td><td>English</td></tr><tr><td>30</td><td>2016-09-05 12:31:44</td><td>Jonathan</td><td>1487</td><td>Rodriguez</td></tr><tr><td>31</td><td>2016-07-30 01:45:47</td><td>Valerie</td><td>10917</td><td>Rodriguez</td></tr><tr><td>28</td><td>2015-12-18 10:50:10</td><td>Jennifer</td><td>10734</td><td>Arellano</td></tr><tr><td>43</td><td>2016-07-21 15:25:08</td><td>Chelsea</td><td>10119</td><td>Gonzalez</td></tr><tr><td>21</td><td>2017-01-02 03:01:09</td><td>Catherine</td><td>3716</td><td>Ferrell</td></tr><tr><td>20</td><td>2015-11-24 21:01:23</td><td>Alejandra</td><td>7268</td><td>Acevedo</td></tr><tr><td>43</td><td>2016-07-21 15:25:08</td><td>Chelsea</td><td>10119</td><td>Gonzalez</td></tr><tr><td>21</td><td>2017-01-02 03:01:09</td><td>Catherine</td><td>3716</td><td>Ferrell</td></tr><tr><td>20</td><td>2015-11-24 21:01:23</td><td>Alejandra</td><td>7268</td><td>Acevedo</td></tr><tr><td>45</td><td>2017-05-24 01:41:26</td><td>Nicholas</td><td>9426</td><td>Mcdaniel</td></tr><tr><td>59</td><td>2017-06-01 10:55:10</td><td>Michael</td><td>7116</td><td>Mcconnell</td></tr><tr><td>20</td><td>2015-11-16 13:25:08</td><td>Benjamin</td><td>1335</td><td>Campbell</td></tr><tr><td>36</td><td>2017-02-16 16:01:34</td><td>Danielle</td><td>4765</td><td>Gonzalez</td></tr><tr><td>41</td><td>2016-06-14 11:16:18</td><td>Heather</td><td>10204</td><td>Gonzalez</td></tr><tr><td>21</td><td>2015-11-10 09:27:42</td><td>Andrea</td><td>8731</td><td>Alexander</td></tr><tr><td>24</td><td>2016-03-31 20:56:39</td><td>Austin</td><td>8887</td><td>Rodriguez</td></tr><tr><td>23</td><td>2015-12-01 18:15:02</td><td>Christine</td><td>7768</td><td>Cortez</td></tr><tr><td>20</td><td>2015-10-30 11:37:32</td><td>Alexander</td><td>9268</td><td>Bailey</td></tr><tr><td>20</td><td>2017-03-10 19:53:44</td><td>Justin</td><td>3011</td><td>Singleton</td></tr><tr><td>22</td><td>2016-05-11 01:36:00</td><td>Brandon</td><td>1699</td><td>Cummings</td></tr><tr><td>21</td><td>2015-11-10 09:27:42</td><td>Andrea</td><td>8731</td><td>Alexander</td></tr><tr><td>24</td><td>2016-03-31 20:56:39</td><td>Austin</td><td>8887</td><td>Rodriguez</td></tr><tr><td>23</td><td>2015-12-01 18:15:02</td><td>Christine</td><td>7768</td><td>Cortez</td></tr><tr><td>20</td><td>2015-10-30 11:37:32</td><td>Alexander</td><td>9268</td><td>Bailey</td></tr><tr><td>20</td><td>2017-03-10 19:53:44</td><td>Justin</td><td>3011</td><td>Singleton</td></tr><tr><td>22</td><td>2016-05-11 01:36:00</td><td>Brandon</td><td>1699</td><td>Cummings</td></tr><tr><td>22</td><td>2015-11-04 15:48:14</td><td>Adrienne</td><td>1961</td><td>Barrett</td></tr><tr><td>55</td><td>2015-11-18 05:46:35</td><td>Mark</td><td>10837</td><td>Richardson</td></tr><tr><td>53</td><td>2016-02-14 19:17:10</td><td>Grant</td><td>8745</td><td>Villanueva</td></tr><tr><td>41</td><td>2015-12-22 01:36:15</td><td>Charles</td><td>2987</td><td>Robinson</td></tr><tr><td>23</td><td>2016-01-02 03:36:30</td><td>Heather</td><td>6652</td><td>Arellano</td></tr><tr><td>20</td><td>2015-12-05 21:04:46</td><td>Alexander</td><td>4027</td><td>Bailey</td></tr><tr><td>35</td><td>2016-05-31 01:40:44</td><td>Brandi</td><td>2810</td><td>Cervantes</td></tr><tr><td>36</td><td>2015-12-20 16:38:13</td><td>Michelle</td><td>4315</td><td>Prince</td></tr><tr><td>32</td><td>2017-10-10 20:09:33</td><td>Christian</td><td>10625</td><td>Lang</td></tr><tr><td>22</td><td>2016-02-11 20:46:04</td><td>Jennifer</td><td>9672</td><td>Hudson</td></tr><tr><td>23</td><td>2015-11-28 11:52:37</td><td>Andrew</td><td>8930</td><td>Anderson</td></tr><tr><td>31</td><td>2017-08-04 14:30:22</td><td>Alexander</td><td>6566</td><td>Perez</td></tr><tr><td>52</td><td>2016-02-07 20:00:25</td><td>Richard</td><td>3729</td><td>Edwards</td></tr><tr><td>40</td><td>2017-05-16 07:09:21</td><td>Michael</td><td>10552</td><td>Hunter</td></tr><tr><td>21</td><td>2015-10-25 07:36:08</td><td>Aaron</td><td>9074</td><td>Alexander</td></tr><tr><td>28</td><td>2016-01-29 20:32:05</td><td>Elizabeth</td><td>3201</td><td>Terry</td></tr><tr><td>40</td><td>2017-01-12 08:37:12</td><td>Timothy</td><td>480</td><td>Sullivan</td></tr><tr><td>21</td><td>2015-10-25 07:36:08</td><td>Aaron</td><td>7586</td><td>Alexander</td></tr><tr><td>32</td><td>2015-10-28 15:48:24</td><td>Alexander</td><td>1864</td><td>Adams</td></tr><tr><td>22</td><td>2017-04-14 13:57:52</td><td>Crystal</td><td>3145</td><td>Schmidt</td></tr><tr><td>24</td><td>2016-01-09 19:37:29</td><td>Barbara</td><td>5742</td><td>Edwards</td></tr><tr><td>36</td><td>2015-12-20 16:38:13</td><td>Michelle</td><td>4315</td><td>Prince</td></tr><tr><td>32</td><td>2017-10-10 20:09:33</td><td>Christian</td><td>10625</td><td>Lang</td></tr><tr><td>22</td><td>2016-02-11 20:46:04</td><td>Jennifer</td><td>9672</td><td>Hudson</td></tr><tr><td>23</td><td>2015-11-28 11:52:37</td><td>Andrew</td><td>8930</td><td>Anderson</td></tr><tr><td>31</td><td>2017-08-04 14:30:22</td><td>Alexander</td><td>6566</td><td>Perez</td></tr><tr><td>52</td><td>2016-02-07 20:00:25</td><td>Richard</td><td>3729</td><td>Edwards</td></tr><tr><td>40</td><td>2017-05-16 07:09:21</td><td>Michael</td><td>10552</td><td>Hunter</td></tr><tr><td>21</td><td>2015-10-25 07:36:08</td><td>Aaron</td><td>9074</td><td>Alexander</td></tr><tr><td>28</td><td>2016-01-29 20:32:05</td><td>Elizabeth</td><td>3201</td><td>Terry</td></tr><tr><td>40</td><td>2017-01-12 08:37:12</td><td>Timothy</td><td>480</td><td>Sullivan</td></tr><tr><td>21</td><td>2015-10-25 07:36:08</td><td>Aaron</td><td>7586</td><td>Alexander</td></tr><tr><td>32</td><td>2015-10-28 15:48:24</td><td>Alexander</td><td>1864</td><td>Adams</td></tr><tr><td>22</td><td>2017-04-14 13:57:52</td><td>Crystal</td><td>3145</td><td>Schmidt</td></tr><tr><td>24</td><td>2016-01-09 19:37:29</td><td>Barbara</td><td>5742</td><td>Edwards</td></tr><tr><td>21</td><td>2015-11-23 09:01:37</td><td>Amanda</td><td>10099</td><td>Carlson</td></tr><tr><td>33</td><td>2016-01-16 18:25:10</td><td>Heather</td><td>5488</td><td>Edwards</td></tr><tr><td>20</td><td>2017-02-10 13:39:15</td><td>Daniel</td><td>5620</td><td>Anderson</td></tr><tr><td>60</td><td>2017-07-18 11:50:18</td><td>Charlotte</td><td>4513</td><td>Pitts</td></tr><tr><td>21</td><td>2015-10-25 07:36:08</td><td>Aaron</td><td>7759</td><td>Alexander</td></tr><tr><td>20</td><td>2016-06-21 10:08:09</td><td>Elizabeth</td><td>6717</td><td>Green</td></tr><tr><td>47</td><td>2017-05-10 22:51:14</td><td>Katrina</td><td>9425</td><td>Fischer</td></tr><tr><td>24</td><td>2017-04-08 10:18:26</td><td>Samuel</td><td>4377</td><td>Thompson</td></tr><tr><td>41</td><td>2017-04-16 22:40:56</td><td>Sandra</td><td>8505</td><td>Humphrey</td></tr><tr><td>20</td><td>2016-01-21 03:54:20</td><td>Andrea</td><td>10425</td><td>Carroll</td></tr><tr><td>41</td><td>2017-09-25 07:22:09</td><td>Patricia</td><td>1254</td><td>Harvey</td></tr><tr><td>25</td><td>2015-12-07 02:19:50</td><td>Charles</td><td>3436</td><td>Johnson</td></tr><tr><td>21</td><td>2016-02-16 17:03:44</td><td>Alexander</td><td>8645</td><td>Clark</td></tr><tr><td>23</td><td>2015-11-28 11:52:37</td><td>Andrew</td><td>8488</td><td>Anderson</td></tr><tr><td>20</td><td>2015-12-11 03:23:37</td><td>Linda</td><td>5130</td><td>Blackwell</td></tr><tr><td>20</td><td>2016-06-02 03:51:43</td><td>Cameron</td><td>10160</td><td>Medina</td></tr><tr><td>30</td><td>2015-11-24 03:29:52</td><td>Jennifer</td><td>9734</td><td>Kaiser</td></tr><tr><td>21</td><td>2015-10-25 07:36:08</td><td>Aaron</td><td>9155</td><td>Alexander</td></tr><tr><td>56</td><td>2015-12-07 11:53:35</td><td>Brenda</td><td>7448</td><td>Gonzalez</td></tr><tr><td>32</td><td>2016-04-02 03:51:23</td><td>Brittany</td><td>1313</td><td>Jones</td></tr><tr><td>34</td><td>2016-12-22 00:02:02</td><td>Thomas</td><td>10794</td><td>Turner</td></tr><tr><td>20</td><td>2016-01-07 19:49:22</td><td>David</td><td>2959</td><td>Griffith</td></tr><tr><td>26</td><td>2015-12-20 10:28:00</td><td>Brendan</td><td>9875</td><td>Joseph</td></tr><tr><td>21</td><td>2016-01-03 15:42:12</td><td>Annette</td><td>2074</td><td>Forbes</td></tr><tr><td>56</td><td>2016-10-15 17:21:39</td><td>Gregory</td><td>1014</td><td>Ramsey</td></tr><tr><td>59</td><td>2017-06-29 22:35:17</td><td>Michael</td><td>4137</td><td>Decker</td></tr><tr><td>21</td><td>2015-11-24 02:15:36</td><td>Aaron</td><td>2411</td><td>Bartlett</td></tr><tr><td>58</td><td>2016-06-03 23:35:30</td><td>Michael</td><td>4508</td><td>Carter</td></tr><tr><td>32</td><td>2016-03-10 04:11:31</td><td>Brittany</td><td>771</td><td>Butler</td></tr><tr><td>46</td><td>2015-11-27 23:11:21</td><td>Jonathan</td><td>1545</td><td>Avila</td></tr><tr><td>44</td><td>2016-10-29 02:07:21</td><td>Brandon</td><td>603</td><td>Jackson</td></tr><tr><td>22</td><td>2016-02-09 17:01:38</td><td>Carlos</td><td>5630</td><td>Estrada</td></tr><tr><td>32</td><td>2016-06-08 22:10:13</td><td>Donna</td><td>1268</td><td>Campbell</td></tr><tr><td>54</td><td>2016-05-15 04:22:01</td><td>Alexis</td><td>1555</td><td>Bennett</td></tr><tr><td>20</td><td>2015-12-17 08:43:40</td><td>Adam</td><td>3800</td><td>Armstrong</td></tr><tr><td>43</td><td>2016-03-22 15:45:21</td><td>Jesus</td><td>2788</td><td>Arellano</td></tr><tr><td>51</td><td>2017-08-14 08:26:30</td><td>Nathan</td><td>8300</td><td>Stanton</td></tr><tr><td>46</td><td>2016-09-11 22:32:50</td><td>Carrie</td><td>10337</td><td>Parker</td></tr><tr><td>39</td><td>2016-06-30 02:56:06</td><td>Samuel</td><td>7832</td><td>Hawkins</td></tr><tr><td>31</td><td>2016-02-06 10:22:53</td><td>Christine</td><td>778</td><td>Adams</td></tr><tr><td>21</td><td>2015-10-28 03:59:42</td><td>Anthony</td><td>2565</td><td>Adkins</td></tr><tr><td>30</td><td>2016-07-08 19:10:37</td><td>Holly</td><td>9778</td><td>Campbell</td></tr><tr><td>28</td><td>2017-04-30 16:41:26</td><td>James</td><td>5162</td><td>Jacobson</td></tr><tr><td>35</td><td>2016-02-04 14:45:39</td><td>Allison</td><td>3184</td><td>Dawson</td></tr><tr><td>32</td><td>2016-04-02 03:51:23</td><td>Brittany</td><td>1313</td><td>Jones</td></tr><tr><td>34</td><td>2016-12-22 00:02:02</td><td>Thomas</td><td>10794</td><td>Turner</td></tr><tr><td>20</td><td>2016-01-07 19:49:22</td><td>David</td><td>2959</td><td>Griffith</td></tr><tr><td>26</td><td>2015-12-20 10:28:00</td><td>Brendan</td><td>9875</td><td>Joseph</td></tr><tr><td>21</td><td>2016-01-03 15:42:12</td><td>Annette</td><td>2074</td><td>Forbes</td></tr><tr><td>56</td><td>2016-10-15 17:21:39</td><td>Gregory</td><td>1014</td><td>Ramsey</td></tr><tr><td>59</td><td>2017-06-29 22:35:17</td><td>Michael</td><td>4137</td><td>Decker</td></tr><tr><td>21</td><td>2015-11-24 02:15:36</td><td>Aaron</td><td>2411</td><td>Bartlett</td></tr><tr><td>58</td><td>2016-06-03 23:35:30</td><td>Michael</td><td>4508</td><td>Carter</td></tr><tr><td>32</td><td>2016-03-10 04:11:31</td><td>Brittany</td><td>771</td><td>Butler</td></tr><tr><td>46</td><td>2015-11-27 23:11:21</td><td>Jonathan</td><td>1545</td><td>Avila</td></tr><tr><td>44</td><td>2016-10-29 02:07:21</td><td>Brandon</td><td>603</td><td>Jackson</td></tr><tr><td>22</td><td>2016-02-09 17:01:38</td><td>Carlos</td><td>5630</td><td>Estrada</td></tr><tr><td>32</td><td>2016-06-08 22:10:13</td><td>Donna</td><td>1268</td><td>Campbell</td></tr><tr><td>54</td><td>2016-05-15 04:22:01</td><td>Alexis</td><td>1555</td><td>Bennett</td></tr><tr><td>20</td><td>2015-12-17 08:43:40</td><td>Adam</td><td>3800</td><td>Armstrong</td></tr><tr><td>43</td><td>2016-03-22 15:45:21</td><td>Jesus</td><td>2788</td><td>Arellano</td></tr><tr><td>51</td><td>2017-08-14 08:26:30</td><td>Nathan</td><td>8300</td><td>Stanton</td></tr><tr><td>46</td><td>2016-09-11 22:32:50</td><td>Carrie</td><td>10337</td><td>Parker</td></tr><tr><td>39</td><td>2016-06-30 02:56:06</td><td>Samuel</td><td>7832</td><td>Hawkins</td></tr><tr><td>31</td><td>2016-02-06 10:22:53</td><td>Christine</td><td>778</td><td>Adams</td></tr><tr><td>21</td><td>2015-10-28 03:59:42</td><td>Anthony</td><td>2565</td><td>Adkins</td></tr><tr><td>30</td><td>2016-07-08 19:10:37</td><td>Holly</td><td>9778</td><td>Campbell</td></tr><tr><td>28</td><td>2017-04-30 16:41:26</td><td>James</td><td>5162</td><td>Jacobson</td></tr><tr><td>35</td><td>2016-02-04 14:45:39</td><td>Allison</td><td>3184</td><td>Dawson</td></tr><tr><td>29</td><td>2016-02-18 23:18:39</td><td>Mindy</td><td>1521</td><td>Garrison</td></tr><tr><td>21</td><td>2015-10-24 05:35:27</td><td>Aaron</td><td>7641</td><td>Anderson</td></tr><tr><td>20</td><td>2015-12-17 08:43:40</td><td>Adam</td><td>4024</td><td>Armstrong</td></tr><tr><td>47</td><td>2016-01-01 03:57:19</td><td>Anthony</td><td>7905</td><td>Duncan</td></tr><tr><td>31</td><td>2016-09-05 14:41:44</td><td>Amber</td><td>8341</td><td>Robinson</td></tr><tr><td>50</td><td>2017-05-03 07:29:04</td><td>Alyssa</td><td>10022</td><td>Greene</td></tr><tr><td>46</td><td>2016-05-11 23:09:30</td><td>Courtney</td><td>8123</td><td>Chung</td></tr><tr><td>25</td><td>2016-02-14 18:52:16</td><td>Christina</td><td>5551</td><td>Haas</td></tr><tr><td>28</td><td>2016-04-22 05:55:48</td><td>Maria</td><td>6660</td><td>Davidson</td></tr><tr><td>38</td><td>2016-04-11 08:54:04</td><td>Danielle</td><td>8015</td><td>Klein</td></tr><tr><td>41</td><td>2016-04-03 05:17:47</td><td>Matthew</td><td>6380</td><td>Newman</td></tr><tr><td>57</td><td>2017-01-06 20:27:48</td><td>Jeffrey</td><td>6299</td><td>Gordon</td></tr><tr><td>28</td><td>2016-04-30 10:03:19</td><td>Adrian</td><td>3660</td><td>Jackson</td></tr><tr><td>43</td><td>2016-11-11 15:53:15</td><td>Madeline</td><td>4561</td><td>Brown</td></tr><tr><td>26</td><td>2017-06-07 23:07:30</td><td>Shannon</td><td>7180</td><td>Melton</td></tr><tr><td>29</td><td>2016-12-25 23:51:01</td><td>Cynthia</td><td>4781</td><td>Guerra</td></tr><tr><td>23</td><td>2016-01-17 21:06:05</td><td>Aaron</td><td>4424</td><td>Buchanan</td></tr><tr><td>25</td><td>2017-10-18 06:45:02</td><td>Scott</td><td>9185</td><td>Copeland</td></tr><tr><td>21</td><td>2015-11-10 12:55:13</td><td>Andrew</td><td>7896</td><td>Alvarez</td></tr><tr><td>25</td><td>2016-05-09 16:38:08</td><td>Amber</td><td>456</td><td>Cervantes</td></tr><tr><td>57</td><td>2015-12-07 08:51:53</td><td>Matthew</td><td>5724</td><td>Walker</td></tr><tr><td>23</td><td>2015-11-10 10:26:14</td><td>Andrea</td><td>6976</td><td>Beasley</td></tr><tr><td>30</td><td>2015-10-21 07:31:00</td><td>Bonnie</td><td>2553</td><td>Estrada</td></tr><tr><td>25</td><td>2015-12-28 04:21:39</td><td>Charles</td><td>8304</td><td>Berry</td></tr><tr><td>23</td><td>2015-11-25 13:36:22</td><td>Corey</td><td>6063</td><td>Andrews</td></tr><tr><td>48</td><td>2017-09-26 16:31:56</td><td>Robert</td><td>3454</td><td>Murphy</td></tr><tr><td>20</td><td>2017-04-11 16:35:33</td><td>Cheryl</td><td>7554</td><td>Huerta</td></tr><tr><td>30</td><td>2015-12-25 20:24:37</td><td>Emily</td><td>6145</td><td>Hawkins</td></tr><tr><td>31</td><td>2016-11-09 19:50:51</td><td>Kaylee</td><td>9979</td><td>Miller</td></tr><tr><td>24</td><td>2015-11-20 05:37:11</td><td>Angela</td><td>4913</td><td>Brooks</td></tr><tr><td>25</td><td>2015-11-19 21:24:33</td><td>Daniel</td><td>9759</td><td>Brooks</td></tr><tr><td>20</td><td>2016-12-31 00:06:36</td><td>Dawn</td><td>7294</td><td>Anderson</td></tr><tr><td>21</td><td>2015-11-24 02:15:36</td><td>Aaron</td><td>808</td><td>Bartlett</td></tr><tr><td>28</td><td>2016-11-15 10:40:03</td><td>Anthony</td><td>9936</td><td>Cantu</td></tr><tr><td>30</td><td>2016-07-03 10:59:40</td><td>Peter</td><td>6844</td><td>Roberts</td></tr><tr><td>47</td><td>2017-04-26 03:26:23</td><td>Aaron</td><td>3419</td><td>Jenkins</td></tr><tr><td>25</td><td>2017-07-20 05:51:23</td><td>Rhonda</td><td>4988</td><td>Durham</td></tr><tr><td>20</td><td>2017-01-17 01:49:27</td><td>Regina</td><td>552</td><td>Morales</td></tr><tr><td>25</td><td>2015-11-19 21:24:33</td><td>Daniel</td><td>8312</td><td>Brooks</td></tr><tr><td>38</td><td>2015-10-26 09:45:45</td><td>Nicholas</td><td>6261</td><td>Hart</td></tr><tr><td>20</td><td>2015-10-26 23:04:52</td><td>Amanda</td><td>5758</td><td>Arnold</td></tr><tr><td>38</td><td>2017-05-03 03:08:33</td><td>Virginia</td><td>1137</td><td>Vega</td></tr><tr><td>31</td><td>2016-01-21 12:53:34</td><td>Karina</td><td>2301</td><td>Morton</td></tr><tr><td>33</td><td>2017-04-19 08:49:40</td><td>Sarah</td><td>232</td><td>Buchanan</td></tr><tr><td>40</td><td>2016-01-03 12:03:05</td><td>Jessica</td><td>9475</td><td>Mejia</td></tr><tr><td>27</td><td>2016-03-03 07:28:39</td><td>John</td><td>4996</td><td>Anderson</td></tr><tr><td>34</td><td>2016-02-26 00:38:01</td><td>Alexis</td><td>7738</td><td>George</td></tr><tr><td>20</td><td>2015-11-07 20:59:32</td><td>Abigail</td><td>8886</td><td>Bates</td></tr><tr><td>22</td><td>2015-11-30 10:51:59</td><td>Allison</td><td>4357</td><td>Adams</td></tr><tr><td>25</td><td>2015-12-28 04:21:39</td><td>Charles</td><td>8304</td><td>Berry</td></tr><tr><td>23</td><td>2015-11-25 13:36:22</td><td>Corey</td><td>6063</td><td>Andrews</td></tr><tr><td>48</td><td>2017-09-26 16:31:56</td><td>Robert</td><td>3454</td><td>Murphy</td></tr><tr><td>20</td><td>2017-04-11 16:35:33</td><td>Cheryl</td><td>7554</td><td>Huerta</td></tr><tr><td>30</td><td>2015-12-25 20:24:37</td><td>Emily</td><td>6145</td><td>Hawkins</td></tr><tr><td>31</td><td>2016-11-09 19:50:51</td><td>Kaylee</td><td>9979</td><td>Miller</td></tr><tr><td>24</td><td>2015-11-20 05:37:11</td><td>Angela</td><td>4913</td><td>Brooks</td></tr><tr><td>25</td><td>2015-11-19 21:24:33</td><td>Daniel</td><td>9759</td><td>Brooks</td></tr><tr><td>20</td><td>2016-12-31 00:06:36</td><td>Dawn</td><td>7294</td><td>Anderson</td></tr><tr><td>21</td><td>2015-11-24 02:15:36</td><td>Aaron</td><td>808</td><td>Bartlett</td></tr><tr><td>28</td><td>2016-11-15 10:40:03</td><td>Anthony</td><td>9936</td><td>Cantu</td></tr><tr><td>30</td><td>2016-07-03 10:59:40</td><td>Peter</td><td>6844</td><td>Roberts</td></tr><tr><td>47</td><td>2017-04-26 03:26:23</td><td>Aaron</td><td>3419</td><td>Jenkins</td></tr><tr><td>25</td><td>2017-07-20 05:51:23</td><td>Rhonda</td><td>4988</td><td>Durham</td></tr><tr><td>20</td><td>2017-01-17 01:49:27</td><td>Regina</td><td>552</td><td>Morales</td></tr><tr><td>25</td><td>2015-11-19 21:24:33</td><td>Daniel</td><td>8312</td><td>Brooks</td></tr><tr><td>38</td><td>2015-10-26 09:45:45</td><td>Nicholas</td><td>6261</td><td>Hart</td></tr><tr><td>20</td><td>2015-10-26 23:04:52</td><td>Amanda</td><td>5758</td><td>Arnold</td></tr><tr><td>38</td><td>2017-05-03 03:08:33</td><td>Virginia</td><td>1137</td><td>Vega</td></tr><tr><td>31</td><td>2016-01-21 12:53:34</td><td>Karina</td><td>2301</td><td>Morton</td></tr><tr><td>33</td><td>2017-04-19 08:49:40</td><td>Sarah</td><td>232</td><td>Buchanan</td></tr><tr><td>40</td><td>2016-01-03 12:03:05</td><td>Jessica</td><td>9475</td><td>Mejia</td></tr><tr><td>27</td><td>2016-03-03 07:28:39</td><td>John</td><td>4996</td><td>Anderson</td></tr><tr><td>34</td><td>2016-02-26 00:38:01</td><td>Alexis</td><td>7738</td><td>George</td></tr><tr><td>20</td><td>2015-11-07 20:59:32</td><td>Abigail</td><td>8886</td><td>Bates</td></tr><tr><td>22</td><td>2015-11-30 10:51:59</td><td>Allison</td><td>4357</td><td>Adams</td></tr><tr><td>21</td><td>2015-11-01 09:16:18</td><td>Amanda</td><td>450</td><td>Benitez</td></tr><tr><td>28</td><td>2015-10-29 08:51:34</td><td>Angela</td><td>6066</td><td>Flores</td></tr><tr><td>21</td><td>2015-10-24 05:35:27</td><td>Aaron</td><td>640</td><td>Anderson</td></tr><tr><td>58</td><td>2016-10-22 16:08:50</td><td>Scott</td><td>3008</td><td>Houston</td></tr><tr><td>40</td><td>2016-08-02 19:06:12</td><td>Carmen</td><td>8081</td><td>Taylor</td></tr><tr><td>21</td><td>2015-11-01 09:16:18</td><td>Amanda</td><td>310</td><td>Benitez</td></tr><tr><td>20</td><td>2017-06-17 20:00:37</td><td>Jamie</td><td>10052</td><td>Bryant</td></tr><tr><td>35</td><td>2016-10-21 03:38:15</td><td>Erin</td><td>6939</td><td>Thompson</td></tr><tr><td>22</td><td>2016-07-03 13:53:31</td><td>Danny</td><td>10087</td><td>Ramsey</td></tr><tr><td>34</td><td>2015-12-20 18:05:14</td><td>Carla</td><td>10050</td><td>Arnold</td></tr><tr><td>22</td><td>2016-11-07 11:01:26</td><td>Barbara</td><td>6341</td><td>Duran</td></tr><tr><td>32</td><td>2016-03-02 01:25:48</td><td>Jane</td><td>10783</td><td>Aguilar</td></tr><tr><td>58</td><td>2017-06-17 04:42:14</td><td>Matthew</td><td>6747</td><td>Simon</td></tr><tr><td>34</td><td>2016-03-14 20:42:08</td><td>Adam</td><td>2011</td><td>Anderson</td></tr><tr><td>27</td><td>2016-08-31 20:20:25</td><td>Calvin</td><td>5647</td><td>Atkins</td></tr><tr><td>20</td><td>2015-11-02 04:40:42</td><td>Aaron</td><td>10931</td><td>Bailey</td></tr><tr><td>26</td><td>2016-01-03 06:10:45</td><td>Cindy</td><td>6496</td><td>Bennett</td></tr><tr><td>37</td><td>2016-03-06 21:35:04</td><td>Nathan</td><td>4654</td><td>Howard</td></tr><tr><td>21</td><td>2015-12-02 08:29:10</td><td>Andrew</td><td>7940</td><td>Arnold</td></tr><tr><td>40</td><td>2016-01-03 12:03:05</td><td>Jessica</td><td>9475</td><td>Mejia</td></tr><tr><td>31</td><td>2017-04-29 03:22:38</td><td>Joseph</td><td>8448</td><td>Church</td></tr><tr><td>38</td><td>2015-11-15 16:53:09</td><td>Ashley</td><td>2315</td><td>Briggs</td></tr><tr><td>32</td><td>2016-10-23 14:06:51</td><td>Dylan</td><td>2863</td><td>Holmes</td></tr><tr><td>36</td><td>2015-12-08 20:02:43</td><td>Rachel</td><td>5730</td><td>Davis</td></tr><tr><td>26</td><td>2015-11-11 03:20:57</td><td>Brian</td><td>2923</td><td>Nelson</td></tr><tr><td>20</td><td>2015-10-21 08:27:36</td><td>Amanda</td><td>2418</td><td>Adams</td></tr><tr><td>22</td><td>2015-12-21 08:06:54</td><td>Andrew</td><td>3156</td><td>Baker</td></tr><tr><td>20</td><td>2015-11-28 02:20:29</td><td>Claudia</td><td>428</td><td>Adams</td></tr><tr><td>24</td><td>2016-01-11 12:03:48</td><td>Anne</td><td>7343</td><td>Clayton</td></tr><tr><td>22</td><td>2015-12-31 14:57:02</td><td>Carol</td><td>10138</td><td>Silva</td></tr><tr><td>21</td><td>2015-11-12 06:21:36</td><td>Denise</td><td>7922</td><td>Adams</td></tr><tr><td>22</td><td>2015-10-24 18:56:30</td><td>Amanda</td><td>9590</td><td>Allen</td></tr><tr><td>44</td><td>2017-06-21 19:53:27</td><td>Kayla</td><td>2698</td><td>Burton</td></tr><tr><td>28</td><td>2016-06-16 02:06:38</td><td>Aimee</td><td>831</td><td>Collins</td></tr><tr><td>21</td><td>2015-11-12 06:21:36</td><td>Denise</td><td>8606</td><td>Adams</td></tr><tr><td>20</td><td>2015-10-23 22:47:39</td><td>Larry</td><td>4076</td><td>Pineda</td></tr><tr><td>20</td><td>2015-10-31 18:51:07</td><td>Aaron</td><td>1422</td><td>Abbott</td></tr><tr><td>20</td><td>2015-11-12 03:23:49</td><td>Amanda</td><td>1371</td><td>Brown</td></tr><tr><td>30</td><td>2016-02-21 12:54:01</td><td>Ashley</td><td>2604</td><td>Evans</td></tr><tr><td>59</td><td>2016-12-17 11:10:48</td><td>Ariana</td><td>1198</td><td>Gross</td></tr><tr><td>30</td><td>2016-12-21 13:39:14</td><td>Derrick</td><td>10370</td><td>Kim</td></tr><tr><td>20</td><td>2016-08-26 16:09:52</td><td>Dawn</td><td>7167</td><td>Bradley</td></tr><tr><td>25</td><td>2016-04-27 02:59:27</td><td>Glenn</td><td>772</td><td>Hammond</td></tr><tr><td>20</td><td>2016-07-27 06:20:48</td><td>Debra</td><td>7510</td><td>Becker</td></tr><tr><td>20</td><td>2015-10-26 04:12:32</td><td>Angela</td><td>7234</td><td>Allen</td></tr><tr><td>20</td><td>2015-10-23 16:08:41</td><td>Aaron</td><td>7874</td><td>Abbott</td></tr><tr><td>20</td><td>2015-10-31 18:51:07</td><td>Aaron</td><td>1450</td><td>Abbott</td></tr><tr><td>21</td><td>2015-11-05 22:07:56</td><td>Albert</td><td>9093</td><td>Adams</td></tr><tr><td>36</td><td>2016-06-03 23:53:50</td><td>David</td><td>5293</td><td>Taylor</td></tr><tr><td>20</td><td>2015-10-23 16:08:41</td><td>Aaron</td><td>7733</td><td>Abbott</td></tr><tr><td>56</td><td>2016-02-04 23:27:36</td><td>Justin</td><td>8366</td><td>Ewing</td></tr><tr><td>53</td><td>2016-02-20 13:03:00</td><td>Nicole</td><td>10168</td><td>Gray</td></tr><tr><td>50</td><td>2017-07-31 16:56:52</td><td>Jeremy</td><td>2498</td><td>Chase</td></tr><tr><td>59</td><td>2016-09-06 06:21:57</td><td>Lydia</td><td>6250</td><td>Nelson</td></tr><tr><td>55</td><td>2017-08-11 14:24:41</td><td>Gerald</td><td>3563</td><td>Davis</td></tr><tr><td>32</td><td>2016-10-23 14:06:51</td><td>Dylan</td><td>2863</td><td>Holmes</td></tr><tr><td>36</td><td>2015-12-08 20:02:43</td><td>Rachel</td><td>5730</td><td>Davis</td></tr><tr><td>26</td><td>2015-11-11 03:20:57</td><td>Brian</td><td>2923</td><td>Nelson</td></tr><tr><td>20</td><td>2015-10-21 08:27:36</td><td>Amanda</td><td>2418</td><td>Adams</td></tr><tr><td>22</td><td>2015-12-21 08:06:54</td><td>Andrew</td><td>3156</td><td>Baker</td></tr><tr><td>20</td><td>2015-11-28 02:20:29</td><td>Claudia</td><td>428</td><td>Adams</td></tr><tr><td>24</td><td>2016-01-11 12:03:48</td><td>Anne</td><td>7343</td><td>Clayton</td></tr><tr><td>22</td><td>2015-12-31 14:57:02</td><td>Carol</td><td>10138</td><td>Silva</td></tr><tr><td>21</td><td>2015-11-12 06:21:36</td><td>Denise</td><td>7922</td><td>Adams</td></tr><tr><td>22</td><td>2015-10-24 18:56:30</td><td>Amanda</td><td>9590</td><td>Allen</td></tr><tr><td>44</td><td>2017-06-21 19:53:27</td><td>Kayla</td><td>2698</td><td>Burton</td></tr><tr><td>28</td><td>2016-06-16 02:06:38</td><td>Aimee</td><td>831</td><td>Collins</td></tr><tr><td>21</td><td>2015-11-12 06:21:36</td><td>Denise</td><td>8606</td><td>Adams</td></tr><tr><td>20</td><td>2015-10-23 22:47:39</td><td>Larry</td><td>4076</td><td>Pineda</td></tr><tr><td>20</td><td>2015-10-31 18:51:07</td><td>Aaron</td><td>1422</td><td>Abbott</td></tr><tr><td>20</td><td>2015-11-12 03:23:49</td><td>Amanda</td><td>1371</td><td>Brown</td></tr><tr><td>30</td><td>2016-02-21 12:54:01</td><td>Ashley</td><td>2604</td><td>Evans</td></tr><tr><td>59</td><td>2016-12-17 11:10:48</td><td>Ariana</td><td>1198</td><td>Gross</td></tr><tr><td>30</td><td>2016-12-21 13:39:14</td><td>Derrick</td><td>10370</td><td>Kim</td></tr><tr><td>20</td><td>2016-08-26 16:09:52</td><td>Dawn</td><td>7167</td><td>Bradley</td></tr><tr><td>25</td><td>2016-04-27 02:59:27</td><td>Glenn</td><td>772</td><td>Hammond</td></tr><tr><td>20</td><td>2016-07-27 06:20:48</td><td>Debra</td><td>7510</td><td>Becker</td></tr><tr><td>20</td><td>2015-10-26 04:12:32</td><td>Angela</td><td>7234</td><td>Allen</td></tr><tr><td>20</td><td>2015-10-23 16:08:41</td><td>Aaron</td><td>7874</td><td>Abbott</td></tr><tr><td>20</td><td>2015-10-31 18:51:07</td><td>Aaron</td><td>1450</td><td>Abbott</td></tr><tr><td>21</td><td>2015-11-05 22:07:56</td><td>Albert</td><td>9093</td><td>Adams</td></tr><tr><td>36</td><td>2016-06-03 23:53:50</td><td>David</td><td>5293</td><td>Taylor</td></tr><tr><td>20</td><td>2015-10-23 16:08:41</td><td>Aaron</td><td>7733</td><td>Abbott</td></tr><tr><td>56</td><td>2016-02-04 23:27:36</td><td>Justin</td><td>8366</td><td>Ewing</td></tr><tr><td>53</td><td>2016-02-20 13:03:00</td><td>Nicole</td><td>10168</td><td>Gray</td></tr><tr><td>50</td><td>2017-07-31 16:56:52</td><td>Jeremy</td><td>2498</td><td>Chase</td></tr><tr><td>59</td><td>2016-09-06 06:21:57</td><td>Lydia</td><td>6250</td><td>Nelson</td></tr><tr><td>55</td><td>2017-08-11 14:24:41</td><td>Gerald</td><td>3563</td><td>Davis</td></tr><tr><td>30</td><td>2015-11-29 15:45:13</td><td>Beth</td><td>3945</td><td>Johnson</td></tr><tr><td>25</td><td>2016-03-26 04:30:23</td><td>Andrew</td><td>8174</td><td>Brown</td></tr><tr><td>23</td><td>2017-01-12 11:17:31</td><td>Diana</td><td>680</td><td>Ballard</td></tr><tr><td>55</td><td>2017-08-04 01:04:25</td><td>Vernon</td><td>9527</td><td>Brown</td></tr><tr><td>28</td><td>2015-12-21 00:33:51</td><td>Jason</td><td>5959</td><td>Brooks</td></tr><tr><td>24</td><td>2016-02-25 08:52:45</td><td>Jacob</td><td>10120</td><td>Baird</td></tr><tr><td>21</td><td>2015-11-16 23:15:00</td><td>Amanda</td><td>4045</td><td>Allen</td></tr><tr><td>21</td><td>2015-11-01 09:16:18</td><td>Amanda</td><td>74</td><td>Benitez</td></tr><tr><td>44</td><td>2017-09-28 16:41:00</td><td>Joseph</td><td>7850</td><td>Kelly</td></tr><tr><td>27</td><td>2015-11-11 01:45:05</td><td>Grant</td><td>4055</td><td>George</td></tr><tr><td>20</td><td>2016-08-26 16:09:52</td><td>Dawn</td><td>7383</td><td>Bradley</td></tr><tr><td>20</td><td>2015-10-23 16:08:41</td><td>Aaron</td><td>7745</td><td>Abbott</td></tr><tr><td>31</td><td>2016-01-30 13:25:52</td><td>Brian</td><td>1814</td><td>Hansen</td></tr><tr><td>43</td><td>2016-01-21 09:41:10</td><td>James</td><td>2343</td><td>Graves</td></tr><tr><td>23</td><td>2016-10-03 21:44:53</td><td>Jacob</td><td>4862</td><td>Castro</td></tr><tr><td>43</td><td>2016-09-01 18:15:56</td><td>Cindy</td><td>334</td><td>Morales</td></tr><tr><td>21</td><td>2015-11-16 23:15:00</td><td>Amanda</td><td>3626</td><td>Allen</td></tr><tr><td>44</td><td>2016-10-17 08:09:28</td><td>Steven</td><td>6916</td><td>Dixon</td></tr><tr><td>20</td><td>2015-10-23 16:08:41</td><td>Aaron</td><td>8100</td><td>Abbott</td></tr><tr><td>33</td><td>2015-11-12 14:10:39</td><td>Amy</td><td>5166</td><td>Caldwell</td></tr><tr><td>50</td><td>2015-12-30 08:56:15</td><td>Barbara</td><td>1675</td><td>Ford</td></tr><tr><td>32</td><td>2016-02-19 01:20:00</td><td>Brian</td><td>5527</td><td>Herman</td></tr><tr><td>20</td><td>2015-10-23 16:08:41</td><td>Aaron</td><td>7670</td><td>Abbott</td></tr><tr><td>48</td><td>2016-04-26 11:49:56</td><td>Lori</td><td>10371</td><td>Campos</td></tr><tr><td>29</td><td>2015-11-01 23:09:37</td><td>Brian</td><td>9502</td><td>Barnes</td></tr><tr><td>20</td><td>2015-10-24 11:23:51</td><td>Abigail</td><td>7528</td><td>Ali</td></tr><tr><td>25</td><td>2016-01-13 17:36:30</td><td>Amanda</td><td>5069</td><td>Ball</td></tr><tr><td>20</td><td>2015-10-24 11:23:51</td><td>Abigail</td><td>3089</td><td>Ali</td></tr><tr><td>24</td><td>2016-03-09 10:48:14</td><td>Tammy</td><td>8653</td><td>Davis</td></tr><tr><td>20</td><td>2016-01-01 13:50:40</td><td>Alvin</td><td>7166</td><td>Adams</td></tr><tr><td>20</td><td>2016-02-27 21:13:44</td><td>Alex</td><td>9546</td><td>Barnes</td></tr><tr><td>20</td><td>2016-07-23 20:51:06</td><td>Lisa</td><td>5468</td><td>Gamble</td></tr><tr><td>20</td><td>2015-10-23 12:40:19</td><td>Brett</td><td>205</td><td>Bryant</td></tr><tr><td>20</td><td>2016-01-26 01:49:23</td><td>Alicia</td><td>719</td><td>Avila</td></tr><tr><td>20</td><td>2016-07-02 02:32:30</td><td>Ann</td><td>1094</td><td>Elliott</td></tr><tr><td>51</td><td>2016-10-09 14:47:51</td><td>Melanie</td><td>223</td><td>Hill</td></tr><tr><td>32</td><td>2016-08-23 20:36:12</td><td>Shawn</td><td>2637</td><td>Jones</td></tr><tr><td>27</td><td>2016-12-18 10:11:23</td><td>Joshua</td><td>2060</td><td>Long</td></tr><tr><td>21</td><td>2016-01-10 09:41:14</td><td>Jose</td><td>9487</td><td>Bailey</td></tr><tr><td>34</td><td>2016-05-08 16:27:01</td><td>Julie</td><td>10245</td><td>Cook</td></tr><tr><td>28</td><td>2015-11-26 11:23:50</td><td>Gary</td><td>3750</td><td>Barker</td></tr><tr><td>23</td><td>2016-01-06 12:22:08</td><td>Amber</td><td>3334</td><td>Casey</td></tr><tr><td>35</td><td>2016-11-19 22:36:49</td><td>Aaron</td><td>5333</td><td>Clark</td></tr><tr><td>20</td><td>2015-10-24 11:23:51</td><td>Abigail</td><td>1341</td><td>Ali</td></tr><tr><td>26</td><td>2017-06-12 16:02:59</td><td>Mary</td><td>5151</td><td>Jordan</td></tr><tr><td>39</td><td>2017-04-04 06:05:03</td><td>Eric</td><td>3351</td><td>Taylor</td></tr><tr><td>58</td><td>2016-09-18 07:28:19</td><td>Kevin</td><td>2955</td><td>Young</td></tr><tr><td>43</td><td>2016-11-29 22:22:47</td><td>Gary</td><td>6558</td><td>Tanner</td></tr><tr><td>20</td><td>2015-10-24 11:23:51</td><td>Abigail</td><td>7528</td><td>Ali</td></tr><tr><td>25</td><td>2016-01-13 17:36:30</td><td>Amanda</td><td>5069</td><td>Ball</td></tr><tr><td>20</td><td>2015-10-24 11:23:51</td><td>Abigail</td><td>3089</td><td>Ali</td></tr><tr><td>24</td><td>2016-03-09 10:48:14</td><td>Tammy</td><td>8653</td><td>Davis</td></tr><tr><td>20</td><td>2016-01-01 13:50:40</td><td>Alvin</td><td>7166</td><td>Adams</td></tr><tr><td>20</td><td>2016-02-27 21:13:44</td><td>Alex</td><td>9546</td><td>Barnes</td></tr><tr><td>20</td><td>2016-07-23 20:51:06</td><td>Lisa</td><td>5468</td><td>Gamble</td></tr><tr><td>20</td><td>2015-10-23 12:40:19</td><td>Brett</td><td>205</td><td>Bryant</td></tr><tr><td>20</td><td>2016-01-26 01:49:23</td><td>Alicia</td><td>719</td><td>Avila</td></tr><tr><td>20</td><td>2016-07-02 02:32:30</td><td>Ann</td><td>1094</td><td>Elliott</td></tr><tr><td>51</td><td>2016-10-09 14:47:51</td><td>Melanie</td><td>223</td><td>Hill</td></tr><tr><td>32</td><td>2016-08-23 20:36:12</td><td>Shawn</td><td>2637</td><td>Jones</td></tr><tr><td>27</td><td>2016-12-18 10:11:23</td><td>Joshua</td><td>2060</td><td>Long</td></tr><tr><td>21</td><td>2016-01-10 09:41:14</td><td>Jose</td><td>9487</td><td>Bailey</td></tr><tr><td>34</td><td>2016-05-08 16:27:01</td><td>Julie</td><td>10245</td><td>Cook</td></tr><tr><td>28</td><td>2015-11-26 11:23:50</td><td>Gary</td><td>3750</td><td>Barker</td></tr><tr><td>23</td><td>2016-01-06 12:22:08</td><td>Amber</td><td>3334</td><td>Casey</td></tr><tr><td>35</td><td>2016-11-19 22:36:49</td><td>Aaron</td><td>5333</td><td>Clark</td></tr><tr><td>20</td><td>2015-10-24 11:23:51</td><td>Abigail</td><td>1341</td><td>Ali</td></tr><tr><td>26</td><td>2017-06-12 16:02:59</td><td>Mary</td><td>5151</td><td>Jordan</td></tr><tr><td>39</td><td>2017-04-04 06:05:03</td><td>Eric</td><td>3351</td><td>Taylor</td></tr><tr><td>58</td><td>2016-09-18 07:28:19</td><td>Kevin</td><td>2955</td><td>Young</td></tr><tr><td>43</td><td>2016-11-29 22:22:47</td><td>Gary</td><td>6558</td><td>Tanner</td></tr><tr><td>20</td><td>2016-04-07 13:02:08</td><td>Juan</td><td>1216</td><td>Cortez</td></tr><tr><td>42</td><td>2017-01-31 05:08:14</td><td>Linda</td><td>1599</td><td>Rojas</td></tr><tr><td>33</td><td>2015-11-29 07:33:20</td><td>Jacob</td><td>6134</td><td>Baker</td></tr><tr><td>28</td><td>2016-04-12 03:40:13</td><td>Aaron</td><td>3824</td><td>Berry</td></tr><tr><td>48</td><td>2016-09-12 23:54:34</td><td>Debra</td><td>6479</td><td>Morse</td></tr><tr><td>42</td><td>2017-07-02 17:25:18</td><td>James</td><td>7370</td><td>Keith</td></tr><tr><td>20</td><td>2016-04-10 02:39:57</td><td>April</td><td>3240</td><td>Brown</td></tr><tr><td>23</td><td>2016-01-06 12:22:08</td><td>Amber</td><td>3360</td><td>Casey</td></tr><tr><td>24</td><td>2015-11-09 03:47:45</td><td>Carlos</td><td>527</td><td>Dixon</td></tr><tr><td>20</td><td>2015-11-23 06:34:47</td><td>Alexis</td><td>5737</td><td>Bell</td></tr><tr><td>29</td><td>2017-01-13 08:26:21</td><td>Jill</td><td>649</td><td>Gilmore</td></tr><tr><td>30</td><td>2016-01-30 06:09:57</td><td>David</td><td>5704</td><td>Craig</td></tr><tr><td>20</td><td>2015-10-24 11:23:51</td><td>Abigail</td><td>7240</td><td>Ali</td></tr><tr><td>20</td><td>2015-10-24 11:23:51</td><td>Abigail</td><td>1341</td><td>Ali</td></tr><tr><td>27</td><td>2015-12-16 15:20:05</td><td>Anne</td><td>5494</td><td>Allen</td></tr><tr><td>23</td><td>2016-06-23 14:38:00</td><td>Julie</td><td>10663</td><td>Cox</td></tr><tr><td>20</td><td>2015-10-28 05:00:33</td><td>Barry</td><td>1704</td><td>Lynn</td></tr><tr><td>22</td><td>2016-03-01 07:11:48</td><td>David</td><td>2482</td><td>Moss</td></tr><tr><td>21</td><td>2016-01-07 08:11:35</td><td>Alison</td><td>159</td><td>Bell</td></tr><tr><td>31</td><td>2016-03-07 01:01:24</td><td>Daniel</td><td>5309</td><td>Roy</td></tr><tr><td>39</td><td>2015-12-04 03:15:28</td><td>Jill</td><td>327</td><td>Taylor</td></tr><tr><td>34</td><td>2017-08-22 00:01:29</td><td>Mark</td><td>8978</td><td>Jones</td></tr><tr><td>23</td><td>2016-02-18 08:44:33</td><td>Nancy</td><td>1362</td><td>Case</td></tr><tr><td>27</td><td>2016-02-06 15:31:57</td><td>Jason</td><td>995</td><td>Horne</td></tr><tr><td>27</td><td>2015-12-16 15:20:05</td><td>Anne</td><td>5494</td><td>Allen</td></tr><tr><td>23</td><td>2016-06-23 14:38:00</td><td>Julie</td><td>10663</td><td>Cox</td></tr><tr><td>20</td><td>2015-10-28 05:00:33</td><td>Barry</td><td>1704</td><td>Lynn</td></tr><tr><td>22</td><td>2016-03-01 07:11:48</td><td>David</td><td>2482</td><td>Moss</td></tr><tr><td>21</td><td>2016-01-07 08:11:35</td><td>Alison</td><td>159</td><td>Bell</td></tr><tr><td>31</td><td>2016-03-07 01:01:24</td><td>Daniel</td><td>5309</td><td>Roy</td></tr><tr><td>39</td><td>2015-12-04 03:15:28</td><td>Jill</td><td>327</td><td>Taylor</td></tr><tr><td>34</td><td>2017-08-22 00:01:29</td><td>Mark</td><td>8978</td><td>Jones</td></tr><tr><td>23</td><td>2016-02-18 08:44:33</td><td>Nancy</td><td>1362</td><td>Case</td></tr><tr><td>27</td><td>2016-02-06 15:31:57</td><td>Jason</td><td>995</td><td>Horne</td></tr><tr><td>44</td><td>2016-08-13 21:13:14</td><td>Barry</td><td>6615</td><td>West</td></tr><tr><td>50</td><td>2016-07-27 16:22:59</td><td>Nancy</td><td>2893</td><td>Choi</td></tr><tr><td>38</td><td>2016-12-15 07:06:03</td><td>Brian</td><td>744</td><td>Lloyd</td></tr><tr><td>36</td><td>2016-01-12 18:33:12</td><td>Nancy</td><td>7801</td><td>Clay</td></tr><tr><td>26</td><td>2016-02-06 19:00:11</td><td>April</td><td>9218</td><td>Barr</td></tr><tr><td>24</td><td>2016-07-01 16:11:59</td><td>Alfred</td><td>409</td><td>Chen</td></tr><tr><td>23</td><td>2016-07-24 20:27:24</td><td>Mark</td><td>6348</td><td>Brown</td></tr><tr><td>58</td><td>2016-06-21 11:33:31</td><td>Stacy</td><td>10804</td><td>May</td></tr><tr><td>22</td><td>2015-12-30 05:21:14</td><td>Amber</td><td>9198</td><td>Chen</td></tr><tr><td>20</td><td>2015-10-21 21:26:45</td><td>Adam</td><td>501</td><td>Acosta</td></tr><tr><td>24</td><td>2016-01-11 23:08:27</td><td>Alex</td><td>2293</td><td>Bean</td></tr><tr><td>30</td><td>2016-01-06 09:58:56</td><td>Erik</td><td>46</td><td>Kelley</td></tr><tr><td>21</td><td>2015-12-27 23:43:42</td><td>Anne</td><td>2858</td><td>Bond</td></tr><tr><td>20</td><td>2015-10-24 05:05:28</td><td>Amy</td><td>1706</td><td>Adams</td></tr><tr><td>22</td><td>2015-11-18 23:11:15</td><td>Ann</td><td>2048</td><td>Chung</td></tr><tr><td>22</td><td>2016-01-02 01:40:52</td><td>Mary</td><td>6014</td><td>Luna</td></tr><tr><td>24</td><td>2016-05-12 16:28:27</td><td>Jay</td><td>1967</td><td>Flynn</td></tr><tr><td>24</td><td>2016-01-11 23:08:27</td><td>Alex</td><td>2293</td><td>Bean</td></tr><tr><td>30</td><td>2016-01-06 09:58:56</td><td>Erik</td><td>46</td><td>Kelley</td></tr><tr><td>21</td><td>2015-12-27 23:43:42</td><td>Anne</td><td>2858</td><td>Bond</td></tr><tr><td>20</td><td>2015-10-24 05:05:28</td><td>Amy</td><td>1706</td><td>Adams</td></tr><tr><td>22</td><td>2015-11-18 23:11:15</td><td>Ann</td><td>2048</td><td>Chung</td></tr><tr><td>22</td><td>2016-01-02 01:40:52</td><td>Mary</td><td>6014</td><td>Luna</td></tr><tr><td>24</td><td>2016-05-12 16:28:27</td><td>Jay</td><td>1967</td><td>Flynn</td></tr><tr><td>44</td><td>2015-10-31 14:35:30</td><td>Scott</td><td>859</td><td>Page</td></tr><tr><td>20</td><td>2015-10-24 05:05:28</td><td>Amy</td><td>2577</td><td>Adams</td></tr><tr><td>21</td><td>2015-11-08 16:14:16</td><td>Amy</td><td>8677</td><td>Brown</td></tr><tr><td>22</td><td>2015-11-18 23:11:15</td><td>Ann</td><td>2048</td><td>Chung</td></tr><tr><td>48</td><td>2017-06-01 23:13:27</td><td>Joe</td><td>8578</td><td>Pham</td></tr><tr><td>25</td><td>2015-11-26 17:42:37</td><td>Jon</td><td>427</td><td>Burke</td></tr><tr><td>48</td><td>2017-06-01 23:13:27</td><td>Joe</td><td>8578</td><td>Pham</td></tr><tr><td>25</td><td>2015-11-26 17:42:37</td><td>Jon</td><td>427</td><td>Burke</td></tr><tr><td>24</td><td>2017-07-01 07:56:15</td><td>Amber</td><td>25</td><td>Gray</td></tr></tbody></table></div>"
      ]
     },
     "metadata": {
      "application/vnd.databricks.v1+output": {
       "addedWidgets": {},
       "aggData": [],
       "aggError": "",
       "aggOverflow": false,
       "aggSchema": [],
       "aggSeriesLimitReached": false,
       "aggType": "",
       "arguments": {},
       "columnCustomDisplayInfos": {},
       "data": [
        [
         27,
         "2016-03-08 13:38:37",
         "Christopher",
         2015,
         "Bradshaw"
        ],
        [
         59,
         "2017-05-12 21:22:17",
         "Alexander",
         10673,
         "Cervantes"
        ],
        [
         27,
         "2016-03-08 13:38:37",
         "Christopher",
         2015,
         "Bradshaw"
        ],
        [
         59,
         "2017-05-12 21:22:17",
         "Alexander",
         10673,
         "Cervantes"
        ],
        [
         48,
         "2016-02-27 16:57:44",
         "Christopher",
         1857,
         "Hamilton"
        ],
        [
         39,
         "2016-06-29 20:43:59",
         "Christina",
         6398,
         "Davenport"
        ],
        [
         20,
         "2015-10-23 04:13:23",
         "Alexandria",
         3599,
         "Alvarado"
        ],
        [
         39,
         "2016-06-29 20:43:59",
         "Christina",
         6398,
         "Davenport"
        ],
        [
         20,
         "2015-10-23 04:13:23",
         "Alexandria",
         3599,
         "Alvarado"
        ],
        [
         20,
         "2015-10-23 04:13:23",
         "Alexandria",
         4256,
         "Alvarado"
        ],
        [
         44,
         "2016-12-18 16:05:39",
         "Michelle",
         1901,
         "Richardson"
        ],
        [
         20,
         "2015-10-23 04:13:23",
         "Alexandria",
         3831,
         "Alvarado"
        ],
        [
         23,
         "2015-10-31 19:20:09",
         "Alexandria",
         6602,
         "Anderson"
        ],
        [
         20,
         "2015-12-01 15:08:31",
         "Christopher",
         5076,
         "Butler"
        ],
        [
         39,
         "2017-07-19 07:12:04",
         "Michelle",
         7790,
         "Gutierrez"
        ],
        [
         49,
         "2016-04-22 20:36:02",
         "Brittany",
         10509,
         "Thompson"
        ],
        [
         20,
         "2015-12-01 15:08:31",
         "Christopher",
         5076,
         "Butler"
        ],
        [
         39,
         "2017-07-19 07:12:04",
         "Michelle",
         7790,
         "Gutierrez"
        ],
        [
         49,
         "2016-04-22 20:36:02",
         "Brittany",
         10509,
         "Thompson"
        ],
        [
         25,
         "2016-08-19 02:29:26",
         "Elizabeth",
         10248,
         "English"
        ],
        [
         30,
         "2016-09-05 12:31:44",
         "Jonathan",
         1487,
         "Rodriguez"
        ],
        [
         31,
         "2016-07-30 01:45:47",
         "Valerie",
         10917,
         "Rodriguez"
        ],
        [
         28,
         "2015-12-18 10:50:10",
         "Jennifer",
         10734,
         "Arellano"
        ],
        [
         43,
         "2016-07-21 15:25:08",
         "Chelsea",
         10119,
         "Gonzalez"
        ],
        [
         21,
         "2017-01-02 03:01:09",
         "Catherine",
         3716,
         "Ferrell"
        ],
        [
         20,
         "2015-11-24 21:01:23",
         "Alejandra",
         7268,
         "Acevedo"
        ],
        [
         43,
         "2016-07-21 15:25:08",
         "Chelsea",
         10119,
         "Gonzalez"
        ],
        [
         21,
         "2017-01-02 03:01:09",
         "Catherine",
         3716,
         "Ferrell"
        ],
        [
         20,
         "2015-11-24 21:01:23",
         "Alejandra",
         7268,
         "Acevedo"
        ],
        [
         45,
         "2017-05-24 01:41:26",
         "Nicholas",
         9426,
         "Mcdaniel"
        ],
        [
         59,
         "2017-06-01 10:55:10",
         "Michael",
         7116,
         "Mcconnell"
        ],
        [
         20,
         "2015-11-16 13:25:08",
         "Benjamin",
         1335,
         "Campbell"
        ],
        [
         36,
         "2017-02-16 16:01:34",
         "Danielle",
         4765,
         "Gonzalez"
        ],
        [
         41,
         "2016-06-14 11:16:18",
         "Heather",
         10204,
         "Gonzalez"
        ],
        [
         21,
         "2015-11-10 09:27:42",
         "Andrea",
         8731,
         "Alexander"
        ],
        [
         24,
         "2016-03-31 20:56:39",
         "Austin",
         8887,
         "Rodriguez"
        ],
        [
         23,
         "2015-12-01 18:15:02",
         "Christine",
         7768,
         "Cortez"
        ],
        [
         20,
         "2015-10-30 11:37:32",
         "Alexander",
         9268,
         "Bailey"
        ],
        [
         20,
         "2017-03-10 19:53:44",
         "Justin",
         3011,
         "Singleton"
        ],
        [
         22,
         "2016-05-11 01:36:00",
         "Brandon",
         1699,
         "Cummings"
        ],
        [
         21,
         "2015-11-10 09:27:42",
         "Andrea",
         8731,
         "Alexander"
        ],
        [
         24,
         "2016-03-31 20:56:39",
         "Austin",
         8887,
         "Rodriguez"
        ],
        [
         23,
         "2015-12-01 18:15:02",
         "Christine",
         7768,
         "Cortez"
        ],
        [
         20,
         "2015-10-30 11:37:32",
         "Alexander",
         9268,
         "Bailey"
        ],
        [
         20,
         "2017-03-10 19:53:44",
         "Justin",
         3011,
         "Singleton"
        ],
        [
         22,
         "2016-05-11 01:36:00",
         "Brandon",
         1699,
         "Cummings"
        ],
        [
         22,
         "2015-11-04 15:48:14",
         "Adrienne",
         1961,
         "Barrett"
        ],
        [
         55,
         "2015-11-18 05:46:35",
         "Mark",
         10837,
         "Richardson"
        ],
        [
         53,
         "2016-02-14 19:17:10",
         "Grant",
         8745,
         "Villanueva"
        ],
        [
         41,
         "2015-12-22 01:36:15",
         "Charles",
         2987,
         "Robinson"
        ],
        [
         23,
         "2016-01-02 03:36:30",
         "Heather",
         6652,
         "Arellano"
        ],
        [
         20,
         "2015-12-05 21:04:46",
         "Alexander",
         4027,
         "Bailey"
        ],
        [
         35,
         "2016-05-31 01:40:44",
         "Brandi",
         2810,
         "Cervantes"
        ],
        [
         36,
         "2015-12-20 16:38:13",
         "Michelle",
         4315,
         "Prince"
        ],
        [
         32,
         "2017-10-10 20:09:33",
         "Christian",
         10625,
         "Lang"
        ],
        [
         22,
         "2016-02-11 20:46:04",
         "Jennifer",
         9672,
         "Hudson"
        ],
        [
         23,
         "2015-11-28 11:52:37",
         "Andrew",
         8930,
         "Anderson"
        ],
        [
         31,
         "2017-08-04 14:30:22",
         "Alexander",
         6566,
         "Perez"
        ],
        [
         52,
         "2016-02-07 20:00:25",
         "Richard",
         3729,
         "Edwards"
        ],
        [
         40,
         "2017-05-16 07:09:21",
         "Michael",
         10552,
         "Hunter"
        ],
        [
         21,
         "2015-10-25 07:36:08",
         "Aaron",
         9074,
         "Alexander"
        ],
        [
         28,
         "2016-01-29 20:32:05",
         "Elizabeth",
         3201,
         "Terry"
        ],
        [
         40,
         "2017-01-12 08:37:12",
         "Timothy",
         480,
         "Sullivan"
        ],
        [
         21,
         "2015-10-25 07:36:08",
         "Aaron",
         7586,
         "Alexander"
        ],
        [
         32,
         "2015-10-28 15:48:24",
         "Alexander",
         1864,
         "Adams"
        ],
        [
         22,
         "2017-04-14 13:57:52",
         "Crystal",
         3145,
         "Schmidt"
        ],
        [
         24,
         "2016-01-09 19:37:29",
         "Barbara",
         5742,
         "Edwards"
        ],
        [
         36,
         "2015-12-20 16:38:13",
         "Michelle",
         4315,
         "Prince"
        ],
        [
         32,
         "2017-10-10 20:09:33",
         "Christian",
         10625,
         "Lang"
        ],
        [
         22,
         "2016-02-11 20:46:04",
         "Jennifer",
         9672,
         "Hudson"
        ],
        [
         23,
         "2015-11-28 11:52:37",
         "Andrew",
         8930,
         "Anderson"
        ],
        [
         31,
         "2017-08-04 14:30:22",
         "Alexander",
         6566,
         "Perez"
        ],
        [
         52,
         "2016-02-07 20:00:25",
         "Richard",
         3729,
         "Edwards"
        ],
        [
         40,
         "2017-05-16 07:09:21",
         "Michael",
         10552,
         "Hunter"
        ],
        [
         21,
         "2015-10-25 07:36:08",
         "Aaron",
         9074,
         "Alexander"
        ],
        [
         28,
         "2016-01-29 20:32:05",
         "Elizabeth",
         3201,
         "Terry"
        ],
        [
         40,
         "2017-01-12 08:37:12",
         "Timothy",
         480,
         "Sullivan"
        ],
        [
         21,
         "2015-10-25 07:36:08",
         "Aaron",
         7586,
         "Alexander"
        ],
        [
         32,
         "2015-10-28 15:48:24",
         "Alexander",
         1864,
         "Adams"
        ],
        [
         22,
         "2017-04-14 13:57:52",
         "Crystal",
         3145,
         "Schmidt"
        ],
        [
         24,
         "2016-01-09 19:37:29",
         "Barbara",
         5742,
         "Edwards"
        ],
        [
         21,
         "2015-11-23 09:01:37",
         "Amanda",
         10099,
         "Carlson"
        ],
        [
         33,
         "2016-01-16 18:25:10",
         "Heather",
         5488,
         "Edwards"
        ],
        [
         20,
         "2017-02-10 13:39:15",
         "Daniel",
         5620,
         "Anderson"
        ],
        [
         60,
         "2017-07-18 11:50:18",
         "Charlotte",
         4513,
         "Pitts"
        ],
        [
         21,
         "2015-10-25 07:36:08",
         "Aaron",
         7759,
         "Alexander"
        ],
        [
         20,
         "2016-06-21 10:08:09",
         "Elizabeth",
         6717,
         "Green"
        ],
        [
         47,
         "2017-05-10 22:51:14",
         "Katrina",
         9425,
         "Fischer"
        ],
        [
         24,
         "2017-04-08 10:18:26",
         "Samuel",
         4377,
         "Thompson"
        ],
        [
         41,
         "2017-04-16 22:40:56",
         "Sandra",
         8505,
         "Humphrey"
        ],
        [
         20,
         "2016-01-21 03:54:20",
         "Andrea",
         10425,
         "Carroll"
        ],
        [
         41,
         "2017-09-25 07:22:09",
         "Patricia",
         1254,
         "Harvey"
        ],
        [
         25,
         "2015-12-07 02:19:50",
         "Charles",
         3436,
         "Johnson"
        ],
        [
         21,
         "2016-02-16 17:03:44",
         "Alexander",
         8645,
         "Clark"
        ],
        [
         23,
         "2015-11-28 11:52:37",
         "Andrew",
         8488,
         "Anderson"
        ],
        [
         20,
         "2015-12-11 03:23:37",
         "Linda",
         5130,
         "Blackwell"
        ],
        [
         20,
         "2016-06-02 03:51:43",
         "Cameron",
         10160,
         "Medina"
        ],
        [
         30,
         "2015-11-24 03:29:52",
         "Jennifer",
         9734,
         "Kaiser"
        ],
        [
         21,
         "2015-10-25 07:36:08",
         "Aaron",
         9155,
         "Alexander"
        ],
        [
         56,
         "2015-12-07 11:53:35",
         "Brenda",
         7448,
         "Gonzalez"
        ],
        [
         32,
         "2016-04-02 03:51:23",
         "Brittany",
         1313,
         "Jones"
        ],
        [
         34,
         "2016-12-22 00:02:02",
         "Thomas",
         10794,
         "Turner"
        ],
        [
         20,
         "2016-01-07 19:49:22",
         "David",
         2959,
         "Griffith"
        ],
        [
         26,
         "2015-12-20 10:28:00",
         "Brendan",
         9875,
         "Joseph"
        ],
        [
         21,
         "2016-01-03 15:42:12",
         "Annette",
         2074,
         "Forbes"
        ],
        [
         56,
         "2016-10-15 17:21:39",
         "Gregory",
         1014,
         "Ramsey"
        ],
        [
         59,
         "2017-06-29 22:35:17",
         "Michael",
         4137,
         "Decker"
        ],
        [
         21,
         "2015-11-24 02:15:36",
         "Aaron",
         2411,
         "Bartlett"
        ],
        [
         58,
         "2016-06-03 23:35:30",
         "Michael",
         4508,
         "Carter"
        ],
        [
         32,
         "2016-03-10 04:11:31",
         "Brittany",
         771,
         "Butler"
        ],
        [
         46,
         "2015-11-27 23:11:21",
         "Jonathan",
         1545,
         "Avila"
        ],
        [
         44,
         "2016-10-29 02:07:21",
         "Brandon",
         603,
         "Jackson"
        ],
        [
         22,
         "2016-02-09 17:01:38",
         "Carlos",
         5630,
         "Estrada"
        ],
        [
         32,
         "2016-06-08 22:10:13",
         "Donna",
         1268,
         "Campbell"
        ],
        [
         54,
         "2016-05-15 04:22:01",
         "Alexis",
         1555,
         "Bennett"
        ],
        [
         20,
         "2015-12-17 08:43:40",
         "Adam",
         3800,
         "Armstrong"
        ],
        [
         43,
         "2016-03-22 15:45:21",
         "Jesus",
         2788,
         "Arellano"
        ],
        [
         51,
         "2017-08-14 08:26:30",
         "Nathan",
         8300,
         "Stanton"
        ],
        [
         46,
         "2016-09-11 22:32:50",
         "Carrie",
         10337,
         "Parker"
        ],
        [
         39,
         "2016-06-30 02:56:06",
         "Samuel",
         7832,
         "Hawkins"
        ],
        [
         31,
         "2016-02-06 10:22:53",
         "Christine",
         778,
         "Adams"
        ],
        [
         21,
         "2015-10-28 03:59:42",
         "Anthony",
         2565,
         "Adkins"
        ],
        [
         30,
         "2016-07-08 19:10:37",
         "Holly",
         9778,
         "Campbell"
        ],
        [
         28,
         "2017-04-30 16:41:26",
         "James",
         5162,
         "Jacobson"
        ],
        [
         35,
         "2016-02-04 14:45:39",
         "Allison",
         3184,
         "Dawson"
        ],
        [
         32,
         "2016-04-02 03:51:23",
         "Brittany",
         1313,
         "Jones"
        ],
        [
         34,
         "2016-12-22 00:02:02",
         "Thomas",
         10794,
         "Turner"
        ],
        [
         20,
         "2016-01-07 19:49:22",
         "David",
         2959,
         "Griffith"
        ],
        [
         26,
         "2015-12-20 10:28:00",
         "Brendan",
         9875,
         "Joseph"
        ],
        [
         21,
         "2016-01-03 15:42:12",
         "Annette",
         2074,
         "Forbes"
        ],
        [
         56,
         "2016-10-15 17:21:39",
         "Gregory",
         1014,
         "Ramsey"
        ],
        [
         59,
         "2017-06-29 22:35:17",
         "Michael",
         4137,
         "Decker"
        ],
        [
         21,
         "2015-11-24 02:15:36",
         "Aaron",
         2411,
         "Bartlett"
        ],
        [
         58,
         "2016-06-03 23:35:30",
         "Michael",
         4508,
         "Carter"
        ],
        [
         32,
         "2016-03-10 04:11:31",
         "Brittany",
         771,
         "Butler"
        ],
        [
         46,
         "2015-11-27 23:11:21",
         "Jonathan",
         1545,
         "Avila"
        ],
        [
         44,
         "2016-10-29 02:07:21",
         "Brandon",
         603,
         "Jackson"
        ],
        [
         22,
         "2016-02-09 17:01:38",
         "Carlos",
         5630,
         "Estrada"
        ],
        [
         32,
         "2016-06-08 22:10:13",
         "Donna",
         1268,
         "Campbell"
        ],
        [
         54,
         "2016-05-15 04:22:01",
         "Alexis",
         1555,
         "Bennett"
        ],
        [
         20,
         "2015-12-17 08:43:40",
         "Adam",
         3800,
         "Armstrong"
        ],
        [
         43,
         "2016-03-22 15:45:21",
         "Jesus",
         2788,
         "Arellano"
        ],
        [
         51,
         "2017-08-14 08:26:30",
         "Nathan",
         8300,
         "Stanton"
        ],
        [
         46,
         "2016-09-11 22:32:50",
         "Carrie",
         10337,
         "Parker"
        ],
        [
         39,
         "2016-06-30 02:56:06",
         "Samuel",
         7832,
         "Hawkins"
        ],
        [
         31,
         "2016-02-06 10:22:53",
         "Christine",
         778,
         "Adams"
        ],
        [
         21,
         "2015-10-28 03:59:42",
         "Anthony",
         2565,
         "Adkins"
        ],
        [
         30,
         "2016-07-08 19:10:37",
         "Holly",
         9778,
         "Campbell"
        ],
        [
         28,
         "2017-04-30 16:41:26",
         "James",
         5162,
         "Jacobson"
        ],
        [
         35,
         "2016-02-04 14:45:39",
         "Allison",
         3184,
         "Dawson"
        ],
        [
         29,
         "2016-02-18 23:18:39",
         "Mindy",
         1521,
         "Garrison"
        ],
        [
         21,
         "2015-10-24 05:35:27",
         "Aaron",
         7641,
         "Anderson"
        ],
        [
         20,
         "2015-12-17 08:43:40",
         "Adam",
         4024,
         "Armstrong"
        ],
        [
         47,
         "2016-01-01 03:57:19",
         "Anthony",
         7905,
         "Duncan"
        ],
        [
         31,
         "2016-09-05 14:41:44",
         "Amber",
         8341,
         "Robinson"
        ],
        [
         50,
         "2017-05-03 07:29:04",
         "Alyssa",
         10022,
         "Greene"
        ],
        [
         46,
         "2016-05-11 23:09:30",
         "Courtney",
         8123,
         "Chung"
        ],
        [
         25,
         "2016-02-14 18:52:16",
         "Christina",
         5551,
         "Haas"
        ],
        [
         28,
         "2016-04-22 05:55:48",
         "Maria",
         6660,
         "Davidson"
        ],
        [
         38,
         "2016-04-11 08:54:04",
         "Danielle",
         8015,
         "Klein"
        ],
        [
         41,
         "2016-04-03 05:17:47",
         "Matthew",
         6380,
         "Newman"
        ],
        [
         57,
         "2017-01-06 20:27:48",
         "Jeffrey",
         6299,
         "Gordon"
        ],
        [
         28,
         "2016-04-30 10:03:19",
         "Adrian",
         3660,
         "Jackson"
        ],
        [
         43,
         "2016-11-11 15:53:15",
         "Madeline",
         4561,
         "Brown"
        ],
        [
         26,
         "2017-06-07 23:07:30",
         "Shannon",
         7180,
         "Melton"
        ],
        [
         29,
         "2016-12-25 23:51:01",
         "Cynthia",
         4781,
         "Guerra"
        ],
        [
         23,
         "2016-01-17 21:06:05",
         "Aaron",
         4424,
         "Buchanan"
        ],
        [
         25,
         "2017-10-18 06:45:02",
         "Scott",
         9185,
         "Copeland"
        ],
        [
         21,
         "2015-11-10 12:55:13",
         "Andrew",
         7896,
         "Alvarez"
        ],
        [
         25,
         "2016-05-09 16:38:08",
         "Amber",
         456,
         "Cervantes"
        ],
        [
         57,
         "2015-12-07 08:51:53",
         "Matthew",
         5724,
         "Walker"
        ],
        [
         23,
         "2015-11-10 10:26:14",
         "Andrea",
         6976,
         "Beasley"
        ],
        [
         30,
         "2015-10-21 07:31:00",
         "Bonnie",
         2553,
         "Estrada"
        ],
        [
         25,
         "2015-12-28 04:21:39",
         "Charles",
         8304,
         "Berry"
        ],
        [
         23,
         "2015-11-25 13:36:22",
         "Corey",
         6063,
         "Andrews"
        ],
        [
         48,
         "2017-09-26 16:31:56",
         "Robert",
         3454,
         "Murphy"
        ],
        [
         20,
         "2017-04-11 16:35:33",
         "Cheryl",
         7554,
         "Huerta"
        ],
        [
         30,
         "2015-12-25 20:24:37",
         "Emily",
         6145,
         "Hawkins"
        ],
        [
         31,
         "2016-11-09 19:50:51",
         "Kaylee",
         9979,
         "Miller"
        ],
        [
         24,
         "2015-11-20 05:37:11",
         "Angela",
         4913,
         "Brooks"
        ],
        [
         25,
         "2015-11-19 21:24:33",
         "Daniel",
         9759,
         "Brooks"
        ],
        [
         20,
         "2016-12-31 00:06:36",
         "Dawn",
         7294,
         "Anderson"
        ],
        [
         21,
         "2015-11-24 02:15:36",
         "Aaron",
         808,
         "Bartlett"
        ],
        [
         28,
         "2016-11-15 10:40:03",
         "Anthony",
         9936,
         "Cantu"
        ],
        [
         30,
         "2016-07-03 10:59:40",
         "Peter",
         6844,
         "Roberts"
        ],
        [
         47,
         "2017-04-26 03:26:23",
         "Aaron",
         3419,
         "Jenkins"
        ],
        [
         25,
         "2017-07-20 05:51:23",
         "Rhonda",
         4988,
         "Durham"
        ],
        [
         20,
         "2017-01-17 01:49:27",
         "Regina",
         552,
         "Morales"
        ],
        [
         25,
         "2015-11-19 21:24:33",
         "Daniel",
         8312,
         "Brooks"
        ],
        [
         38,
         "2015-10-26 09:45:45",
         "Nicholas",
         6261,
         "Hart"
        ],
        [
         20,
         "2015-10-26 23:04:52",
         "Amanda",
         5758,
         "Arnold"
        ],
        [
         38,
         "2017-05-03 03:08:33",
         "Virginia",
         1137,
         "Vega"
        ],
        [
         31,
         "2016-01-21 12:53:34",
         "Karina",
         2301,
         "Morton"
        ],
        [
         33,
         "2017-04-19 08:49:40",
         "Sarah",
         232,
         "Buchanan"
        ],
        [
         40,
         "2016-01-03 12:03:05",
         "Jessica",
         9475,
         "Mejia"
        ],
        [
         27,
         "2016-03-03 07:28:39",
         "John",
         4996,
         "Anderson"
        ],
        [
         34,
         "2016-02-26 00:38:01",
         "Alexis",
         7738,
         "George"
        ],
        [
         20,
         "2015-11-07 20:59:32",
         "Abigail",
         8886,
         "Bates"
        ],
        [
         22,
         "2015-11-30 10:51:59",
         "Allison",
         4357,
         "Adams"
        ],
        [
         25,
         "2015-12-28 04:21:39",
         "Charles",
         8304,
         "Berry"
        ],
        [
         23,
         "2015-11-25 13:36:22",
         "Corey",
         6063,
         "Andrews"
        ],
        [
         48,
         "2017-09-26 16:31:56",
         "Robert",
         3454,
         "Murphy"
        ],
        [
         20,
         "2017-04-11 16:35:33",
         "Cheryl",
         7554,
         "Huerta"
        ],
        [
         30,
         "2015-12-25 20:24:37",
         "Emily",
         6145,
         "Hawkins"
        ],
        [
         31,
         "2016-11-09 19:50:51",
         "Kaylee",
         9979,
         "Miller"
        ],
        [
         24,
         "2015-11-20 05:37:11",
         "Angela",
         4913,
         "Brooks"
        ],
        [
         25,
         "2015-11-19 21:24:33",
         "Daniel",
         9759,
         "Brooks"
        ],
        [
         20,
         "2016-12-31 00:06:36",
         "Dawn",
         7294,
         "Anderson"
        ],
        [
         21,
         "2015-11-24 02:15:36",
         "Aaron",
         808,
         "Bartlett"
        ],
        [
         28,
         "2016-11-15 10:40:03",
         "Anthony",
         9936,
         "Cantu"
        ],
        [
         30,
         "2016-07-03 10:59:40",
         "Peter",
         6844,
         "Roberts"
        ],
        [
         47,
         "2017-04-26 03:26:23",
         "Aaron",
         3419,
         "Jenkins"
        ],
        [
         25,
         "2017-07-20 05:51:23",
         "Rhonda",
         4988,
         "Durham"
        ],
        [
         20,
         "2017-01-17 01:49:27",
         "Regina",
         552,
         "Morales"
        ],
        [
         25,
         "2015-11-19 21:24:33",
         "Daniel",
         8312,
         "Brooks"
        ],
        [
         38,
         "2015-10-26 09:45:45",
         "Nicholas",
         6261,
         "Hart"
        ],
        [
         20,
         "2015-10-26 23:04:52",
         "Amanda",
         5758,
         "Arnold"
        ],
        [
         38,
         "2017-05-03 03:08:33",
         "Virginia",
         1137,
         "Vega"
        ],
        [
         31,
         "2016-01-21 12:53:34",
         "Karina",
         2301,
         "Morton"
        ],
        [
         33,
         "2017-04-19 08:49:40",
         "Sarah",
         232,
         "Buchanan"
        ],
        [
         40,
         "2016-01-03 12:03:05",
         "Jessica",
         9475,
         "Mejia"
        ],
        [
         27,
         "2016-03-03 07:28:39",
         "John",
         4996,
         "Anderson"
        ],
        [
         34,
         "2016-02-26 00:38:01",
         "Alexis",
         7738,
         "George"
        ],
        [
         20,
         "2015-11-07 20:59:32",
         "Abigail",
         8886,
         "Bates"
        ],
        [
         22,
         "2015-11-30 10:51:59",
         "Allison",
         4357,
         "Adams"
        ],
        [
         21,
         "2015-11-01 09:16:18",
         "Amanda",
         450,
         "Benitez"
        ],
        [
         28,
         "2015-10-29 08:51:34",
         "Angela",
         6066,
         "Flores"
        ],
        [
         21,
         "2015-10-24 05:35:27",
         "Aaron",
         640,
         "Anderson"
        ],
        [
         58,
         "2016-10-22 16:08:50",
         "Scott",
         3008,
         "Houston"
        ],
        [
         40,
         "2016-08-02 19:06:12",
         "Carmen",
         8081,
         "Taylor"
        ],
        [
         21,
         "2015-11-01 09:16:18",
         "Amanda",
         310,
         "Benitez"
        ],
        [
         20,
         "2017-06-17 20:00:37",
         "Jamie",
         10052,
         "Bryant"
        ],
        [
         35,
         "2016-10-21 03:38:15",
         "Erin",
         6939,
         "Thompson"
        ],
        [
         22,
         "2016-07-03 13:53:31",
         "Danny",
         10087,
         "Ramsey"
        ],
        [
         34,
         "2015-12-20 18:05:14",
         "Carla",
         10050,
         "Arnold"
        ],
        [
         22,
         "2016-11-07 11:01:26",
         "Barbara",
         6341,
         "Duran"
        ],
        [
         32,
         "2016-03-02 01:25:48",
         "Jane",
         10783,
         "Aguilar"
        ],
        [
         58,
         "2017-06-17 04:42:14",
         "Matthew",
         6747,
         "Simon"
        ],
        [
         34,
         "2016-03-14 20:42:08",
         "Adam",
         2011,
         "Anderson"
        ],
        [
         27,
         "2016-08-31 20:20:25",
         "Calvin",
         5647,
         "Atkins"
        ],
        [
         20,
         "2015-11-02 04:40:42",
         "Aaron",
         10931,
         "Bailey"
        ],
        [
         26,
         "2016-01-03 06:10:45",
         "Cindy",
         6496,
         "Bennett"
        ],
        [
         37,
         "2016-03-06 21:35:04",
         "Nathan",
         4654,
         "Howard"
        ],
        [
         21,
         "2015-12-02 08:29:10",
         "Andrew",
         7940,
         "Arnold"
        ],
        [
         40,
         "2016-01-03 12:03:05",
         "Jessica",
         9475,
         "Mejia"
        ],
        [
         31,
         "2017-04-29 03:22:38",
         "Joseph",
         8448,
         "Church"
        ],
        [
         38,
         "2015-11-15 16:53:09",
         "Ashley",
         2315,
         "Briggs"
        ],
        [
         32,
         "2016-10-23 14:06:51",
         "Dylan",
         2863,
         "Holmes"
        ],
        [
         36,
         "2015-12-08 20:02:43",
         "Rachel",
         5730,
         "Davis"
        ],
        [
         26,
         "2015-11-11 03:20:57",
         "Brian",
         2923,
         "Nelson"
        ],
        [
         20,
         "2015-10-21 08:27:36",
         "Amanda",
         2418,
         "Adams"
        ],
        [
         22,
         "2015-12-21 08:06:54",
         "Andrew",
         3156,
         "Baker"
        ],
        [
         20,
         "2015-11-28 02:20:29",
         "Claudia",
         428,
         "Adams"
        ],
        [
         24,
         "2016-01-11 12:03:48",
         "Anne",
         7343,
         "Clayton"
        ],
        [
         22,
         "2015-12-31 14:57:02",
         "Carol",
         10138,
         "Silva"
        ],
        [
         21,
         "2015-11-12 06:21:36",
         "Denise",
         7922,
         "Adams"
        ],
        [
         22,
         "2015-10-24 18:56:30",
         "Amanda",
         9590,
         "Allen"
        ],
        [
         44,
         "2017-06-21 19:53:27",
         "Kayla",
         2698,
         "Burton"
        ],
        [
         28,
         "2016-06-16 02:06:38",
         "Aimee",
         831,
         "Collins"
        ],
        [
         21,
         "2015-11-12 06:21:36",
         "Denise",
         8606,
         "Adams"
        ],
        [
         20,
         "2015-10-23 22:47:39",
         "Larry",
         4076,
         "Pineda"
        ],
        [
         20,
         "2015-10-31 18:51:07",
         "Aaron",
         1422,
         "Abbott"
        ],
        [
         20,
         "2015-11-12 03:23:49",
         "Amanda",
         1371,
         "Brown"
        ],
        [
         30,
         "2016-02-21 12:54:01",
         "Ashley",
         2604,
         "Evans"
        ],
        [
         59,
         "2016-12-17 11:10:48",
         "Ariana",
         1198,
         "Gross"
        ],
        [
         30,
         "2016-12-21 13:39:14",
         "Derrick",
         10370,
         "Kim"
        ],
        [
         20,
         "2016-08-26 16:09:52",
         "Dawn",
         7167,
         "Bradley"
        ],
        [
         25,
         "2016-04-27 02:59:27",
         "Glenn",
         772,
         "Hammond"
        ],
        [
         20,
         "2016-07-27 06:20:48",
         "Debra",
         7510,
         "Becker"
        ],
        [
         20,
         "2015-10-26 04:12:32",
         "Angela",
         7234,
         "Allen"
        ],
        [
         20,
         "2015-10-23 16:08:41",
         "Aaron",
         7874,
         "Abbott"
        ],
        [
         20,
         "2015-10-31 18:51:07",
         "Aaron",
         1450,
         "Abbott"
        ],
        [
         21,
         "2015-11-05 22:07:56",
         "Albert",
         9093,
         "Adams"
        ],
        [
         36,
         "2016-06-03 23:53:50",
         "David",
         5293,
         "Taylor"
        ],
        [
         20,
         "2015-10-23 16:08:41",
         "Aaron",
         7733,
         "Abbott"
        ],
        [
         56,
         "2016-02-04 23:27:36",
         "Justin",
         8366,
         "Ewing"
        ],
        [
         53,
         "2016-02-20 13:03:00",
         "Nicole",
         10168,
         "Gray"
        ],
        [
         50,
         "2017-07-31 16:56:52",
         "Jeremy",
         2498,
         "Chase"
        ],
        [
         59,
         "2016-09-06 06:21:57",
         "Lydia",
         6250,
         "Nelson"
        ],
        [
         55,
         "2017-08-11 14:24:41",
         "Gerald",
         3563,
         "Davis"
        ],
        [
         32,
         "2016-10-23 14:06:51",
         "Dylan",
         2863,
         "Holmes"
        ],
        [
         36,
         "2015-12-08 20:02:43",
         "Rachel",
         5730,
         "Davis"
        ],
        [
         26,
         "2015-11-11 03:20:57",
         "Brian",
         2923,
         "Nelson"
        ],
        [
         20,
         "2015-10-21 08:27:36",
         "Amanda",
         2418,
         "Adams"
        ],
        [
         22,
         "2015-12-21 08:06:54",
         "Andrew",
         3156,
         "Baker"
        ],
        [
         20,
         "2015-11-28 02:20:29",
         "Claudia",
         428,
         "Adams"
        ],
        [
         24,
         "2016-01-11 12:03:48",
         "Anne",
         7343,
         "Clayton"
        ],
        [
         22,
         "2015-12-31 14:57:02",
         "Carol",
         10138,
         "Silva"
        ],
        [
         21,
         "2015-11-12 06:21:36",
         "Denise",
         7922,
         "Adams"
        ],
        [
         22,
         "2015-10-24 18:56:30",
         "Amanda",
         9590,
         "Allen"
        ],
        [
         44,
         "2017-06-21 19:53:27",
         "Kayla",
         2698,
         "Burton"
        ],
        [
         28,
         "2016-06-16 02:06:38",
         "Aimee",
         831,
         "Collins"
        ],
        [
         21,
         "2015-11-12 06:21:36",
         "Denise",
         8606,
         "Adams"
        ],
        [
         20,
         "2015-10-23 22:47:39",
         "Larry",
         4076,
         "Pineda"
        ],
        [
         20,
         "2015-10-31 18:51:07",
         "Aaron",
         1422,
         "Abbott"
        ],
        [
         20,
         "2015-11-12 03:23:49",
         "Amanda",
         1371,
         "Brown"
        ],
        [
         30,
         "2016-02-21 12:54:01",
         "Ashley",
         2604,
         "Evans"
        ],
        [
         59,
         "2016-12-17 11:10:48",
         "Ariana",
         1198,
         "Gross"
        ],
        [
         30,
         "2016-12-21 13:39:14",
         "Derrick",
         10370,
         "Kim"
        ],
        [
         20,
         "2016-08-26 16:09:52",
         "Dawn",
         7167,
         "Bradley"
        ],
        [
         25,
         "2016-04-27 02:59:27",
         "Glenn",
         772,
         "Hammond"
        ],
        [
         20,
         "2016-07-27 06:20:48",
         "Debra",
         7510,
         "Becker"
        ],
        [
         20,
         "2015-10-26 04:12:32",
         "Angela",
         7234,
         "Allen"
        ],
        [
         20,
         "2015-10-23 16:08:41",
         "Aaron",
         7874,
         "Abbott"
        ],
        [
         20,
         "2015-10-31 18:51:07",
         "Aaron",
         1450,
         "Abbott"
        ],
        [
         21,
         "2015-11-05 22:07:56",
         "Albert",
         9093,
         "Adams"
        ],
        [
         36,
         "2016-06-03 23:53:50",
         "David",
         5293,
         "Taylor"
        ],
        [
         20,
         "2015-10-23 16:08:41",
         "Aaron",
         7733,
         "Abbott"
        ],
        [
         56,
         "2016-02-04 23:27:36",
         "Justin",
         8366,
         "Ewing"
        ],
        [
         53,
         "2016-02-20 13:03:00",
         "Nicole",
         10168,
         "Gray"
        ],
        [
         50,
         "2017-07-31 16:56:52",
         "Jeremy",
         2498,
         "Chase"
        ],
        [
         59,
         "2016-09-06 06:21:57",
         "Lydia",
         6250,
         "Nelson"
        ],
        [
         55,
         "2017-08-11 14:24:41",
         "Gerald",
         3563,
         "Davis"
        ],
        [
         30,
         "2015-11-29 15:45:13",
         "Beth",
         3945,
         "Johnson"
        ],
        [
         25,
         "2016-03-26 04:30:23",
         "Andrew",
         8174,
         "Brown"
        ],
        [
         23,
         "2017-01-12 11:17:31",
         "Diana",
         680,
         "Ballard"
        ],
        [
         55,
         "2017-08-04 01:04:25",
         "Vernon",
         9527,
         "Brown"
        ],
        [
         28,
         "2015-12-21 00:33:51",
         "Jason",
         5959,
         "Brooks"
        ],
        [
         24,
         "2016-02-25 08:52:45",
         "Jacob",
         10120,
         "Baird"
        ],
        [
         21,
         "2015-11-16 23:15:00",
         "Amanda",
         4045,
         "Allen"
        ],
        [
         21,
         "2015-11-01 09:16:18",
         "Amanda",
         74,
         "Benitez"
        ],
        [
         44,
         "2017-09-28 16:41:00",
         "Joseph",
         7850,
         "Kelly"
        ],
        [
         27,
         "2015-11-11 01:45:05",
         "Grant",
         4055,
         "George"
        ],
        [
         20,
         "2016-08-26 16:09:52",
         "Dawn",
         7383,
         "Bradley"
        ],
        [
         20,
         "2015-10-23 16:08:41",
         "Aaron",
         7745,
         "Abbott"
        ],
        [
         31,
         "2016-01-30 13:25:52",
         "Brian",
         1814,
         "Hansen"
        ],
        [
         43,
         "2016-01-21 09:41:10",
         "James",
         2343,
         "Graves"
        ],
        [
         23,
         "2016-10-03 21:44:53",
         "Jacob",
         4862,
         "Castro"
        ],
        [
         43,
         "2016-09-01 18:15:56",
         "Cindy",
         334,
         "Morales"
        ],
        [
         21,
         "2015-11-16 23:15:00",
         "Amanda",
         3626,
         "Allen"
        ],
        [
         44,
         "2016-10-17 08:09:28",
         "Steven",
         6916,
         "Dixon"
        ],
        [
         20,
         "2015-10-23 16:08:41",
         "Aaron",
         8100,
         "Abbott"
        ],
        [
         33,
         "2015-11-12 14:10:39",
         "Amy",
         5166,
         "Caldwell"
        ],
        [
         50,
         "2015-12-30 08:56:15",
         "Barbara",
         1675,
         "Ford"
        ],
        [
         32,
         "2016-02-19 01:20:00",
         "Brian",
         5527,
         "Herman"
        ],
        [
         20,
         "2015-10-23 16:08:41",
         "Aaron",
         7670,
         "Abbott"
        ],
        [
         48,
         "2016-04-26 11:49:56",
         "Lori",
         10371,
         "Campos"
        ],
        [
         29,
         "2015-11-01 23:09:37",
         "Brian",
         9502,
         "Barnes"
        ],
        [
         20,
         "2015-10-24 11:23:51",
         "Abigail",
         7528,
         "Ali"
        ],
        [
         25,
         "2016-01-13 17:36:30",
         "Amanda",
         5069,
         "Ball"
        ],
        [
         20,
         "2015-10-24 11:23:51",
         "Abigail",
         3089,
         "Ali"
        ],
        [
         24,
         "2016-03-09 10:48:14",
         "Tammy",
         8653,
         "Davis"
        ],
        [
         20,
         "2016-01-01 13:50:40",
         "Alvin",
         7166,
         "Adams"
        ],
        [
         20,
         "2016-02-27 21:13:44",
         "Alex",
         9546,
         "Barnes"
        ],
        [
         20,
         "2016-07-23 20:51:06",
         "Lisa",
         5468,
         "Gamble"
        ],
        [
         20,
         "2015-10-23 12:40:19",
         "Brett",
         205,
         "Bryant"
        ],
        [
         20,
         "2016-01-26 01:49:23",
         "Alicia",
         719,
         "Avila"
        ],
        [
         20,
         "2016-07-02 02:32:30",
         "Ann",
         1094,
         "Elliott"
        ],
        [
         51,
         "2016-10-09 14:47:51",
         "Melanie",
         223,
         "Hill"
        ],
        [
         32,
         "2016-08-23 20:36:12",
         "Shawn",
         2637,
         "Jones"
        ],
        [
         27,
         "2016-12-18 10:11:23",
         "Joshua",
         2060,
         "Long"
        ],
        [
         21,
         "2016-01-10 09:41:14",
         "Jose",
         9487,
         "Bailey"
        ],
        [
         34,
         "2016-05-08 16:27:01",
         "Julie",
         10245,
         "Cook"
        ],
        [
         28,
         "2015-11-26 11:23:50",
         "Gary",
         3750,
         "Barker"
        ],
        [
         23,
         "2016-01-06 12:22:08",
         "Amber",
         3334,
         "Casey"
        ],
        [
         35,
         "2016-11-19 22:36:49",
         "Aaron",
         5333,
         "Clark"
        ],
        [
         20,
         "2015-10-24 11:23:51",
         "Abigail",
         1341,
         "Ali"
        ],
        [
         26,
         "2017-06-12 16:02:59",
         "Mary",
         5151,
         "Jordan"
        ],
        [
         39,
         "2017-04-04 06:05:03",
         "Eric",
         3351,
         "Taylor"
        ],
        [
         58,
         "2016-09-18 07:28:19",
         "Kevin",
         2955,
         "Young"
        ],
        [
         43,
         "2016-11-29 22:22:47",
         "Gary",
         6558,
         "Tanner"
        ],
        [
         20,
         "2015-10-24 11:23:51",
         "Abigail",
         7528,
         "Ali"
        ],
        [
         25,
         "2016-01-13 17:36:30",
         "Amanda",
         5069,
         "Ball"
        ],
        [
         20,
         "2015-10-24 11:23:51",
         "Abigail",
         3089,
         "Ali"
        ],
        [
         24,
         "2016-03-09 10:48:14",
         "Tammy",
         8653,
         "Davis"
        ],
        [
         20,
         "2016-01-01 13:50:40",
         "Alvin",
         7166,
         "Adams"
        ],
        [
         20,
         "2016-02-27 21:13:44",
         "Alex",
         9546,
         "Barnes"
        ],
        [
         20,
         "2016-07-23 20:51:06",
         "Lisa",
         5468,
         "Gamble"
        ],
        [
         20,
         "2015-10-23 12:40:19",
         "Brett",
         205,
         "Bryant"
        ],
        [
         20,
         "2016-01-26 01:49:23",
         "Alicia",
         719,
         "Avila"
        ],
        [
         20,
         "2016-07-02 02:32:30",
         "Ann",
         1094,
         "Elliott"
        ],
        [
         51,
         "2016-10-09 14:47:51",
         "Melanie",
         223,
         "Hill"
        ],
        [
         32,
         "2016-08-23 20:36:12",
         "Shawn",
         2637,
         "Jones"
        ],
        [
         27,
         "2016-12-18 10:11:23",
         "Joshua",
         2060,
         "Long"
        ],
        [
         21,
         "2016-01-10 09:41:14",
         "Jose",
         9487,
         "Bailey"
        ],
        [
         34,
         "2016-05-08 16:27:01",
         "Julie",
         10245,
         "Cook"
        ],
        [
         28,
         "2015-11-26 11:23:50",
         "Gary",
         3750,
         "Barker"
        ],
        [
         23,
         "2016-01-06 12:22:08",
         "Amber",
         3334,
         "Casey"
        ],
        [
         35,
         "2016-11-19 22:36:49",
         "Aaron",
         5333,
         "Clark"
        ],
        [
         20,
         "2015-10-24 11:23:51",
         "Abigail",
         1341,
         "Ali"
        ],
        [
         26,
         "2017-06-12 16:02:59",
         "Mary",
         5151,
         "Jordan"
        ],
        [
         39,
         "2017-04-04 06:05:03",
         "Eric",
         3351,
         "Taylor"
        ],
        [
         58,
         "2016-09-18 07:28:19",
         "Kevin",
         2955,
         "Young"
        ],
        [
         43,
         "2016-11-29 22:22:47",
         "Gary",
         6558,
         "Tanner"
        ],
        [
         20,
         "2016-04-07 13:02:08",
         "Juan",
         1216,
         "Cortez"
        ],
        [
         42,
         "2017-01-31 05:08:14",
         "Linda",
         1599,
         "Rojas"
        ],
        [
         33,
         "2015-11-29 07:33:20",
         "Jacob",
         6134,
         "Baker"
        ],
        [
         28,
         "2016-04-12 03:40:13",
         "Aaron",
         3824,
         "Berry"
        ],
        [
         48,
         "2016-09-12 23:54:34",
         "Debra",
         6479,
         "Morse"
        ],
        [
         42,
         "2017-07-02 17:25:18",
         "James",
         7370,
         "Keith"
        ],
        [
         20,
         "2016-04-10 02:39:57",
         "April",
         3240,
         "Brown"
        ],
        [
         23,
         "2016-01-06 12:22:08",
         "Amber",
         3360,
         "Casey"
        ],
        [
         24,
         "2015-11-09 03:47:45",
         "Carlos",
         527,
         "Dixon"
        ],
        [
         20,
         "2015-11-23 06:34:47",
         "Alexis",
         5737,
         "Bell"
        ],
        [
         29,
         "2017-01-13 08:26:21",
         "Jill",
         649,
         "Gilmore"
        ],
        [
         30,
         "2016-01-30 06:09:57",
         "David",
         5704,
         "Craig"
        ],
        [
         20,
         "2015-10-24 11:23:51",
         "Abigail",
         7240,
         "Ali"
        ],
        [
         20,
         "2015-10-24 11:23:51",
         "Abigail",
         1341,
         "Ali"
        ],
        [
         27,
         "2015-12-16 15:20:05",
         "Anne",
         5494,
         "Allen"
        ],
        [
         23,
         "2016-06-23 14:38:00",
         "Julie",
         10663,
         "Cox"
        ],
        [
         20,
         "2015-10-28 05:00:33",
         "Barry",
         1704,
         "Lynn"
        ],
        [
         22,
         "2016-03-01 07:11:48",
         "David",
         2482,
         "Moss"
        ],
        [
         21,
         "2016-01-07 08:11:35",
         "Alison",
         159,
         "Bell"
        ],
        [
         31,
         "2016-03-07 01:01:24",
         "Daniel",
         5309,
         "Roy"
        ],
        [
         39,
         "2015-12-04 03:15:28",
         "Jill",
         327,
         "Taylor"
        ],
        [
         34,
         "2017-08-22 00:01:29",
         "Mark",
         8978,
         "Jones"
        ],
        [
         23,
         "2016-02-18 08:44:33",
         "Nancy",
         1362,
         "Case"
        ],
        [
         27,
         "2016-02-06 15:31:57",
         "Jason",
         995,
         "Horne"
        ],
        [
         27,
         "2015-12-16 15:20:05",
         "Anne",
         5494,
         "Allen"
        ],
        [
         23,
         "2016-06-23 14:38:00",
         "Julie",
         10663,
         "Cox"
        ],
        [
         20,
         "2015-10-28 05:00:33",
         "Barry",
         1704,
         "Lynn"
        ],
        [
         22,
         "2016-03-01 07:11:48",
         "David",
         2482,
         "Moss"
        ],
        [
         21,
         "2016-01-07 08:11:35",
         "Alison",
         159,
         "Bell"
        ],
        [
         31,
         "2016-03-07 01:01:24",
         "Daniel",
         5309,
         "Roy"
        ],
        [
         39,
         "2015-12-04 03:15:28",
         "Jill",
         327,
         "Taylor"
        ],
        [
         34,
         "2017-08-22 00:01:29",
         "Mark",
         8978,
         "Jones"
        ],
        [
         23,
         "2016-02-18 08:44:33",
         "Nancy",
         1362,
         "Case"
        ],
        [
         27,
         "2016-02-06 15:31:57",
         "Jason",
         995,
         "Horne"
        ],
        [
         44,
         "2016-08-13 21:13:14",
         "Barry",
         6615,
         "West"
        ],
        [
         50,
         "2016-07-27 16:22:59",
         "Nancy",
         2893,
         "Choi"
        ],
        [
         38,
         "2016-12-15 07:06:03",
         "Brian",
         744,
         "Lloyd"
        ],
        [
         36,
         "2016-01-12 18:33:12",
         "Nancy",
         7801,
         "Clay"
        ],
        [
         26,
         "2016-02-06 19:00:11",
         "April",
         9218,
         "Barr"
        ],
        [
         24,
         "2016-07-01 16:11:59",
         "Alfred",
         409,
         "Chen"
        ],
        [
         23,
         "2016-07-24 20:27:24",
         "Mark",
         6348,
         "Brown"
        ],
        [
         58,
         "2016-06-21 11:33:31",
         "Stacy",
         10804,
         "May"
        ],
        [
         22,
         "2015-12-30 05:21:14",
         "Amber",
         9198,
         "Chen"
        ],
        [
         20,
         "2015-10-21 21:26:45",
         "Adam",
         501,
         "Acosta"
        ],
        [
         24,
         "2016-01-11 23:08:27",
         "Alex",
         2293,
         "Bean"
        ],
        [
         30,
         "2016-01-06 09:58:56",
         "Erik",
         46,
         "Kelley"
        ],
        [
         21,
         "2015-12-27 23:43:42",
         "Anne",
         2858,
         "Bond"
        ],
        [
         20,
         "2015-10-24 05:05:28",
         "Amy",
         1706,
         "Adams"
        ],
        [
         22,
         "2015-11-18 23:11:15",
         "Ann",
         2048,
         "Chung"
        ],
        [
         22,
         "2016-01-02 01:40:52",
         "Mary",
         6014,
         "Luna"
        ],
        [
         24,
         "2016-05-12 16:28:27",
         "Jay",
         1967,
         "Flynn"
        ],
        [
         24,
         "2016-01-11 23:08:27",
         "Alex",
         2293,
         "Bean"
        ],
        [
         30,
         "2016-01-06 09:58:56",
         "Erik",
         46,
         "Kelley"
        ],
        [
         21,
         "2015-12-27 23:43:42",
         "Anne",
         2858,
         "Bond"
        ],
        [
         20,
         "2015-10-24 05:05:28",
         "Amy",
         1706,
         "Adams"
        ],
        [
         22,
         "2015-11-18 23:11:15",
         "Ann",
         2048,
         "Chung"
        ],
        [
         22,
         "2016-01-02 01:40:52",
         "Mary",
         6014,
         "Luna"
        ],
        [
         24,
         "2016-05-12 16:28:27",
         "Jay",
         1967,
         "Flynn"
        ],
        [
         44,
         "2015-10-31 14:35:30",
         "Scott",
         859,
         "Page"
        ],
        [
         20,
         "2015-10-24 05:05:28",
         "Amy",
         2577,
         "Adams"
        ],
        [
         21,
         "2015-11-08 16:14:16",
         "Amy",
         8677,
         "Brown"
        ],
        [
         22,
         "2015-11-18 23:11:15",
         "Ann",
         2048,
         "Chung"
        ],
        [
         48,
         "2017-06-01 23:13:27",
         "Joe",
         8578,
         "Pham"
        ],
        [
         25,
         "2015-11-26 17:42:37",
         "Jon",
         427,
         "Burke"
        ],
        [
         48,
         "2017-06-01 23:13:27",
         "Joe",
         8578,
         "Pham"
        ],
        [
         25,
         "2015-11-26 17:42:37",
         "Jon",
         427,
         "Burke"
        ],
        [
         24,
         "2017-07-01 07:56:15",
         "Amber",
         25,
         "Gray"
        ]
       ],
       "datasetInfos": [],
       "dbfsResultPath": null,
       "isJsonSchema": true,
       "metadata": {},
       "overflow": false,
       "plotOptions": {
        "customPlotOptions": {},
        "displayType": "table",
        "pivotAggregation": null,
        "pivotColumns": null,
        "xColumns": null,
        "yColumns": null
       },
       "removedWidgets": [],
       "schema": [
        {
         "metadata": "{}",
         "name": "age",
         "type": "\"long\""
        },
        {
         "metadata": "{}",
         "name": "date_joined",
         "type": "\"string\""
        },
        {
         "metadata": "{}",
         "name": "first_name",
         "type": "\"string\""
        },
        {
         "metadata": "{}",
         "name": "ind",
         "type": "\"long\""
        },
        {
         "metadata": "{}",
         "name": "last_name",
         "type": "\"string\""
        }
       ],
       "type": "table"
      }
     },
     "output_type": "display_data"
    }
   ],
   "source": [
    "# File location and type\n",
    "# Asterisk(*) indicates reading all the content of the specified file that have .json extension NB: THIS TIME THE DATA IS GEO FROM SPARK TOPIC .user\n",
    "file_location = \"/mnt/pinpip_mount/topics/*.user/partition=0/*.json\" \n",
    "file_type = \"json\"\n",
    "# Ask Spark to infer the schema\n",
    "infer_schema = \"true\"\n",
    "\n",
    "# UNIFY CODE FOR EXTRACTING THE THREE DATASETS (originally FIRST .pin, THEN .geo and .user)\n",
    "\n",
    "# Read in JSONs from mounted S3 bucket: df_user\n",
    "df_user = spark.read.format(file_type) \\\n",
    ".option(\"inferSchema\", infer_schema) \\\n",
    ".load(file_location)\n",
    "# Display Spark dataframe to check its content\n",
    "display(df_user)\n",
    "\n",
    "# Read in JSONs from mounted S3 bucket: df_geo\n",
    "df_user = spark.read.format(file_type) \\\n",
    ".option(\"inferSchema\", infer_schema) \\\n",
    ".load(file_location)\n",
    "# Display Spark dataframe to check its content\n",
    "display(df_geo)\n",
    "\n",
    "# Read in JSONs from mounted S3 bucket: df_pin\n",
    "df_user = spark.read.format(file_type) \\\n",
    ".option(\"inferSchema\", infer_schema) \\\n",
    ".load(file_location)\n",
    "# Display Spark dataframe to check its content\n",
    "display(df_pin)"
   ]
  }
 ],
 "metadata": {
  "application/vnd.databricks.v1+notebook": {
   "dashboards": [],
   "language": "python",
   "notebookMetadata": {
    "pythonIndentUnit": 4
   },
   "notebookName": "Extract_Data_Notebook 2023-12-17 09:56:00",
   "widgets": {}
  }
 },
 "nbformat": 4,
 "nbformat_minor": 0
}
